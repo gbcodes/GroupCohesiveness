{
 "cells": [
  {
   "cell_type": "code",
   "execution_count": 1,
   "metadata": {},
   "outputs": [],
   "source": [
    "import pandas as pd\n",
    "import numpy as np\n",
    "import matplotlib.pyplot as plt\n",
    "%matplotlib inline\n",
    "from catboost import CatBoostClassifier\n",
    "from sklearn.metrics import mean_squared_error, r2_score, classification_report\n",
    "from sklearn.linear_model import LogisticRegression\n",
    "from mord import OrdinalRidge, LogisticAT, LogisticIT, LogisticSE, LAD\n",
    "np.random.seed(1)\n",
    "import warnings\n",
    "warnings.filterwarnings('ignore')"
   ]
  },
  {
   "cell_type": "code",
   "execution_count": 2,
   "metadata": {},
   "outputs": [
    {
     "data": {
      "text/html": [
       "<div>\n",
       "<style scoped>\n",
       "    .dataframe tbody tr th:only-of-type {\n",
       "        vertical-align: middle;\n",
       "    }\n",
       "\n",
       "    .dataframe tbody tr th {\n",
       "        vertical-align: top;\n",
       "    }\n",
       "\n",
       "    .dataframe thead th {\n",
       "        text-align: right;\n",
       "    }\n",
       "</style>\n",
       "<table border=\"1\" class=\"dataframe\">\n",
       "  <thead>\n",
       "    <tr style=\"text-align: right;\">\n",
       "      <th></th>\n",
       "      <th>filename</th>\n",
       "      <th>age</th>\n",
       "      <th>gender</th>\n",
       "      <th>target</th>\n",
       "      <th>0</th>\n",
       "      <th>1</th>\n",
       "      <th>2</th>\n",
       "      <th>3</th>\n",
       "      <th>4</th>\n",
       "      <th>5</th>\n",
       "      <th>...</th>\n",
       "      <th>1015</th>\n",
       "      <th>1016</th>\n",
       "      <th>1017</th>\n",
       "      <th>1018</th>\n",
       "      <th>1019</th>\n",
       "      <th>1020</th>\n",
       "      <th>1021</th>\n",
       "      <th>1022</th>\n",
       "      <th>1023</th>\n",
       "      <th>emotion</th>\n",
       "    </tr>\n",
       "  </thead>\n",
       "  <tbody>\n",
       "    <tr>\n",
       "      <th>0</th>\n",
       "      <td>pos_577.jpg</td>\n",
       "      <td>34.345988</td>\n",
       "      <td>0.025728</td>\n",
       "      <td>2</td>\n",
       "      <td>0.376063</td>\n",
       "      <td>0.037215</td>\n",
       "      <td>0.502219</td>\n",
       "      <td>0.116402</td>\n",
       "      <td>0.531689</td>\n",
       "      <td>0.114408</td>\n",
       "      <td>...</td>\n",
       "      <td>0.956416</td>\n",
       "      <td>0.259476</td>\n",
       "      <td>0.493424</td>\n",
       "      <td>0.266535</td>\n",
       "      <td>0.351016</td>\n",
       "      <td>0.320609</td>\n",
       "      <td>0.187088</td>\n",
       "      <td>0.117255</td>\n",
       "      <td>0.057350</td>\n",
       "      <td>2</td>\n",
       "    </tr>\n",
       "    <tr>\n",
       "      <th>1</th>\n",
       "      <td>pos_583.jpg</td>\n",
       "      <td>35.299664</td>\n",
       "      <td>0.968556</td>\n",
       "      <td>2</td>\n",
       "      <td>0.221193</td>\n",
       "      <td>0.228066</td>\n",
       "      <td>0.190070</td>\n",
       "      <td>0.415033</td>\n",
       "      <td>0.000000</td>\n",
       "      <td>0.068632</td>\n",
       "      <td>...</td>\n",
       "      <td>0.265605</td>\n",
       "      <td>0.013332</td>\n",
       "      <td>0.113176</td>\n",
       "      <td>0.095024</td>\n",
       "      <td>0.891857</td>\n",
       "      <td>0.016025</td>\n",
       "      <td>0.034990</td>\n",
       "      <td>0.048576</td>\n",
       "      <td>0.007375</td>\n",
       "      <td>2</td>\n",
       "    </tr>\n",
       "    <tr>\n",
       "      <th>2</th>\n",
       "      <td>pos_579.jpg</td>\n",
       "      <td>9.644070</td>\n",
       "      <td>0.122276</td>\n",
       "      <td>2</td>\n",
       "      <td>0.023657</td>\n",
       "      <td>0.000000</td>\n",
       "      <td>0.000000</td>\n",
       "      <td>0.139015</td>\n",
       "      <td>0.000000</td>\n",
       "      <td>0.214940</td>\n",
       "      <td>...</td>\n",
       "      <td>0.140065</td>\n",
       "      <td>0.233191</td>\n",
       "      <td>0.009372</td>\n",
       "      <td>0.379119</td>\n",
       "      <td>0.000000</td>\n",
       "      <td>0.000000</td>\n",
       "      <td>0.011037</td>\n",
       "      <td>0.243682</td>\n",
       "      <td>0.168824</td>\n",
       "      <td>2</td>\n",
       "    </tr>\n",
       "    <tr>\n",
       "      <th>3</th>\n",
       "      <td>pos_585.jpg</td>\n",
       "      <td>30.467837</td>\n",
       "      <td>0.447095</td>\n",
       "      <td>2</td>\n",
       "      <td>0.250920</td>\n",
       "      <td>0.038105</td>\n",
       "      <td>0.055551</td>\n",
       "      <td>0.252716</td>\n",
       "      <td>0.017855</td>\n",
       "      <td>0.102397</td>\n",
       "      <td>...</td>\n",
       "      <td>0.064782</td>\n",
       "      <td>0.105530</td>\n",
       "      <td>0.133086</td>\n",
       "      <td>0.149044</td>\n",
       "      <td>0.168625</td>\n",
       "      <td>0.042613</td>\n",
       "      <td>0.024562</td>\n",
       "      <td>0.059799</td>\n",
       "      <td>0.009473</td>\n",
       "      <td>2</td>\n",
       "    </tr>\n",
       "    <tr>\n",
       "      <th>4</th>\n",
       "      <td>pos_589.jpg</td>\n",
       "      <td>28.561078</td>\n",
       "      <td>0.826333</td>\n",
       "      <td>3</td>\n",
       "      <td>0.193709</td>\n",
       "      <td>0.541520</td>\n",
       "      <td>0.062039</td>\n",
       "      <td>0.002619</td>\n",
       "      <td>0.329195</td>\n",
       "      <td>0.282683</td>\n",
       "      <td>...</td>\n",
       "      <td>0.276172</td>\n",
       "      <td>0.033571</td>\n",
       "      <td>0.166043</td>\n",
       "      <td>0.014922</td>\n",
       "      <td>0.028219</td>\n",
       "      <td>0.079702</td>\n",
       "      <td>0.094622</td>\n",
       "      <td>0.279265</td>\n",
       "      <td>0.079119</td>\n",
       "      <td>2</td>\n",
       "    </tr>\n",
       "    <tr>\n",
       "      <th>...</th>\n",
       "      <td>...</td>\n",
       "      <td>...</td>\n",
       "      <td>...</td>\n",
       "      <td>...</td>\n",
       "      <td>...</td>\n",
       "      <td>...</td>\n",
       "      <td>...</td>\n",
       "      <td>...</td>\n",
       "      <td>...</td>\n",
       "      <td>...</td>\n",
       "      <td>...</td>\n",
       "      <td>...</td>\n",
       "      <td>...</td>\n",
       "      <td>...</td>\n",
       "      <td>...</td>\n",
       "      <td>...</td>\n",
       "      <td>...</td>\n",
       "      <td>...</td>\n",
       "      <td>...</td>\n",
       "      <td>...</td>\n",
       "      <td>...</td>\n",
       "    </tr>\n",
       "    <tr>\n",
       "      <th>8454</th>\n",
       "      <td>neg_1089.jpg</td>\n",
       "      <td>25.249389</td>\n",
       "      <td>0.676684</td>\n",
       "      <td>2</td>\n",
       "      <td>0.049587</td>\n",
       "      <td>0.265649</td>\n",
       "      <td>0.000000</td>\n",
       "      <td>0.232259</td>\n",
       "      <td>0.000000</td>\n",
       "      <td>0.031788</td>\n",
       "      <td>...</td>\n",
       "      <td>0.026444</td>\n",
       "      <td>0.000000</td>\n",
       "      <td>0.010460</td>\n",
       "      <td>0.000000</td>\n",
       "      <td>1.807124</td>\n",
       "      <td>0.028352</td>\n",
       "      <td>0.238080</td>\n",
       "      <td>0.000000</td>\n",
       "      <td>0.000000</td>\n",
       "      <td>0</td>\n",
       "    </tr>\n",
       "    <tr>\n",
       "      <th>8455</th>\n",
       "      <td>neg_1090.jpg</td>\n",
       "      <td>34.037214</td>\n",
       "      <td>0.851188</td>\n",
       "      <td>1</td>\n",
       "      <td>0.062276</td>\n",
       "      <td>0.241120</td>\n",
       "      <td>0.145124</td>\n",
       "      <td>0.073871</td>\n",
       "      <td>0.016848</td>\n",
       "      <td>0.091469</td>\n",
       "      <td>...</td>\n",
       "      <td>0.107395</td>\n",
       "      <td>0.312324</td>\n",
       "      <td>0.003346</td>\n",
       "      <td>0.125467</td>\n",
       "      <td>0.258570</td>\n",
       "      <td>0.198946</td>\n",
       "      <td>0.110611</td>\n",
       "      <td>0.026392</td>\n",
       "      <td>0.099921</td>\n",
       "      <td>0</td>\n",
       "    </tr>\n",
       "    <tr>\n",
       "      <th>8456</th>\n",
       "      <td>neg_1760.jpg</td>\n",
       "      <td>29.390183</td>\n",
       "      <td>0.598478</td>\n",
       "      <td>2</td>\n",
       "      <td>0.111733</td>\n",
       "      <td>0.085126</td>\n",
       "      <td>0.020304</td>\n",
       "      <td>0.319245</td>\n",
       "      <td>0.000000</td>\n",
       "      <td>0.100706</td>\n",
       "      <td>...</td>\n",
       "      <td>0.033734</td>\n",
       "      <td>0.172429</td>\n",
       "      <td>0.015628</td>\n",
       "      <td>0.209838</td>\n",
       "      <td>0.117979</td>\n",
       "      <td>0.402255</td>\n",
       "      <td>0.016619</td>\n",
       "      <td>0.142459</td>\n",
       "      <td>0.061566</td>\n",
       "      <td>0</td>\n",
       "    </tr>\n",
       "    <tr>\n",
       "      <th>8457</th>\n",
       "      <td>neg_1092.jpg</td>\n",
       "      <td>36.238653</td>\n",
       "      <td>0.960967</td>\n",
       "      <td>1</td>\n",
       "      <td>0.043311</td>\n",
       "      <td>0.190464</td>\n",
       "      <td>0.070046</td>\n",
       "      <td>0.084310</td>\n",
       "      <td>0.048733</td>\n",
       "      <td>0.029670</td>\n",
       "      <td>...</td>\n",
       "      <td>0.080730</td>\n",
       "      <td>0.092045</td>\n",
       "      <td>0.040264</td>\n",
       "      <td>0.017730</td>\n",
       "      <td>0.313473</td>\n",
       "      <td>0.350807</td>\n",
       "      <td>0.103811</td>\n",
       "      <td>0.095807</td>\n",
       "      <td>0.021898</td>\n",
       "      <td>0</td>\n",
       "    </tr>\n",
       "    <tr>\n",
       "      <th>8458</th>\n",
       "      <td>neg_1099.jpg</td>\n",
       "      <td>43.083569</td>\n",
       "      <td>0.952455</td>\n",
       "      <td>1</td>\n",
       "      <td>0.125285</td>\n",
       "      <td>0.662069</td>\n",
       "      <td>0.012377</td>\n",
       "      <td>0.098964</td>\n",
       "      <td>0.056659</td>\n",
       "      <td>0.077921</td>\n",
       "      <td>...</td>\n",
       "      <td>0.023044</td>\n",
       "      <td>0.105869</td>\n",
       "      <td>0.005853</td>\n",
       "      <td>0.036691</td>\n",
       "      <td>0.181627</td>\n",
       "      <td>0.205676</td>\n",
       "      <td>0.072813</td>\n",
       "      <td>0.192018</td>\n",
       "      <td>0.037817</td>\n",
       "      <td>0</td>\n",
       "    </tr>\n",
       "  </tbody>\n",
       "</table>\n",
       "<p>8459 rows × 1029 columns</p>\n",
       "</div>"
      ],
      "text/plain": [
       "          filename        age    gender  target         0         1         2  \\\n",
       "0      pos_577.jpg  34.345988  0.025728       2  0.376063  0.037215  0.502219   \n",
       "1      pos_583.jpg  35.299664  0.968556       2  0.221193  0.228066  0.190070   \n",
       "2      pos_579.jpg   9.644070  0.122276       2  0.023657  0.000000  0.000000   \n",
       "3      pos_585.jpg  30.467837  0.447095       2  0.250920  0.038105  0.055551   \n",
       "4      pos_589.jpg  28.561078  0.826333       3  0.193709  0.541520  0.062039   \n",
       "...            ...        ...       ...     ...       ...       ...       ...   \n",
       "8454  neg_1089.jpg  25.249389  0.676684       2  0.049587  0.265649  0.000000   \n",
       "8455  neg_1090.jpg  34.037214  0.851188       1  0.062276  0.241120  0.145124   \n",
       "8456  neg_1760.jpg  29.390183  0.598478       2  0.111733  0.085126  0.020304   \n",
       "8457  neg_1092.jpg  36.238653  0.960967       1  0.043311  0.190464  0.070046   \n",
       "8458  neg_1099.jpg  43.083569  0.952455       1  0.125285  0.662069  0.012377   \n",
       "\n",
       "             3         4         5  ...      1015      1016      1017  \\\n",
       "0     0.116402  0.531689  0.114408  ...  0.956416  0.259476  0.493424   \n",
       "1     0.415033  0.000000  0.068632  ...  0.265605  0.013332  0.113176   \n",
       "2     0.139015  0.000000  0.214940  ...  0.140065  0.233191  0.009372   \n",
       "3     0.252716  0.017855  0.102397  ...  0.064782  0.105530  0.133086   \n",
       "4     0.002619  0.329195  0.282683  ...  0.276172  0.033571  0.166043   \n",
       "...        ...       ...       ...  ...       ...       ...       ...   \n",
       "8454  0.232259  0.000000  0.031788  ...  0.026444  0.000000  0.010460   \n",
       "8455  0.073871  0.016848  0.091469  ...  0.107395  0.312324  0.003346   \n",
       "8456  0.319245  0.000000  0.100706  ...  0.033734  0.172429  0.015628   \n",
       "8457  0.084310  0.048733  0.029670  ...  0.080730  0.092045  0.040264   \n",
       "8458  0.098964  0.056659  0.077921  ...  0.023044  0.105869  0.005853   \n",
       "\n",
       "          1018      1019      1020      1021      1022      1023  emotion  \n",
       "0     0.266535  0.351016  0.320609  0.187088  0.117255  0.057350        2  \n",
       "1     0.095024  0.891857  0.016025  0.034990  0.048576  0.007375        2  \n",
       "2     0.379119  0.000000  0.000000  0.011037  0.243682  0.168824        2  \n",
       "3     0.149044  0.168625  0.042613  0.024562  0.059799  0.009473        2  \n",
       "4     0.014922  0.028219  0.079702  0.094622  0.279265  0.079119        2  \n",
       "...        ...       ...       ...       ...       ...       ...      ...  \n",
       "8454  0.000000  1.807124  0.028352  0.238080  0.000000  0.000000        0  \n",
       "8455  0.125467  0.258570  0.198946  0.110611  0.026392  0.099921        0  \n",
       "8456  0.209838  0.117979  0.402255  0.016619  0.142459  0.061566        0  \n",
       "8457  0.017730  0.313473  0.350807  0.103811  0.095807  0.021898        0  \n",
       "8458  0.036691  0.181627  0.205676  0.072813  0.192018  0.037817        0  \n",
       "\n",
       "[8459 rows x 1029 columns]"
      ]
     },
     "execution_count": 2,
     "metadata": {},
     "output_type": "execute_result"
    }
   ],
   "source": [
    "train = pd.read_pickle('train_set.pickle')\n",
    "train['filename'] = train['filename'].apply(lambda x: x.split('/')[-1])\n",
    "train['features'] = train['features'].apply(lambda x: np.mean(x, axis=0))\n",
    "train['age'] = train['age'].apply(lambda x: np.median(x))\n",
    "train['gender'] = train['gender'].apply(lambda x: np.median(x))\n",
    "labels = pd.read_csv('train.txt', header=None, sep='  ')\n",
    "train = pd.merge(train, labels, how='inner', left_on='filename', right_on=0)\n",
    "train = train.rename(columns={0: 'name', 1: \"target\"})\n",
    "train.dropna(inplace=True)\n",
    "for i in range(1024):\n",
    "    train[i] = [x[i] for x in train['features']]\n",
    "train.drop(['name', 'features'], axis=1, inplace=True)\n",
    "train['emotion'] = list(map(lambda x: x.split('_')[0], train['filename']))\n",
    "train['emotion'] = train['emotion'].apply(lambda x: (0 if x == 'neg' else (1 if x == 'neu' else (2 if x == 'pos' else x))))\n",
    "train.reset_index(drop=True, inplace=True)\n",
    "train"
   ]
  },
  {
   "cell_type": "code",
   "execution_count": 3,
   "metadata": {},
   "outputs": [
    {
     "data": {
      "text/html": [
       "<div>\n",
       "<style scoped>\n",
       "    .dataframe tbody tr th:only-of-type {\n",
       "        vertical-align: middle;\n",
       "    }\n",
       "\n",
       "    .dataframe tbody tr th {\n",
       "        vertical-align: top;\n",
       "    }\n",
       "\n",
       "    .dataframe thead th {\n",
       "        text-align: right;\n",
       "    }\n",
       "</style>\n",
       "<table border=\"1\" class=\"dataframe\">\n",
       "  <thead>\n",
       "    <tr style=\"text-align: right;\">\n",
       "      <th></th>\n",
       "      <th>filename</th>\n",
       "      <th>age</th>\n",
       "      <th>gender</th>\n",
       "      <th>target</th>\n",
       "      <th>0</th>\n",
       "      <th>1</th>\n",
       "      <th>2</th>\n",
       "      <th>3</th>\n",
       "      <th>4</th>\n",
       "      <th>5</th>\n",
       "      <th>...</th>\n",
       "      <th>1015</th>\n",
       "      <th>1016</th>\n",
       "      <th>1017</th>\n",
       "      <th>1018</th>\n",
       "      <th>1019</th>\n",
       "      <th>1020</th>\n",
       "      <th>1021</th>\n",
       "      <th>1022</th>\n",
       "      <th>1023</th>\n",
       "      <th>emotion</th>\n",
       "    </tr>\n",
       "  </thead>\n",
       "  <tbody>\n",
       "    <tr>\n",
       "      <th>0</th>\n",
       "      <td>pos_575.jpg</td>\n",
       "      <td>32.540987</td>\n",
       "      <td>0.702918</td>\n",
       "      <td>3</td>\n",
       "      <td>0.192024</td>\n",
       "      <td>0.247141</td>\n",
       "      <td>0.215001</td>\n",
       "      <td>0.025266</td>\n",
       "      <td>0.007561</td>\n",
       "      <td>0.128036</td>\n",
       "      <td>...</td>\n",
       "      <td>0.152416</td>\n",
       "      <td>0.085822</td>\n",
       "      <td>0.104665</td>\n",
       "      <td>0.122048</td>\n",
       "      <td>0.461803</td>\n",
       "      <td>0.071234</td>\n",
       "      <td>0.140374</td>\n",
       "      <td>0.107920</td>\n",
       "      <td>0.229319</td>\n",
       "      <td>2</td>\n",
       "    </tr>\n",
       "    <tr>\n",
       "      <th>1</th>\n",
       "      <td>pos_571.jpg</td>\n",
       "      <td>30.499367</td>\n",
       "      <td>0.537119</td>\n",
       "      <td>3</td>\n",
       "      <td>0.241812</td>\n",
       "      <td>0.139867</td>\n",
       "      <td>0.296436</td>\n",
       "      <td>0.822290</td>\n",
       "      <td>0.045836</td>\n",
       "      <td>0.066887</td>\n",
       "      <td>...</td>\n",
       "      <td>0.055932</td>\n",
       "      <td>0.099419</td>\n",
       "      <td>0.060477</td>\n",
       "      <td>0.351158</td>\n",
       "      <td>0.739378</td>\n",
       "      <td>0.005959</td>\n",
       "      <td>0.015202</td>\n",
       "      <td>0.045890</td>\n",
       "      <td>0.115706</td>\n",
       "      <td>2</td>\n",
       "    </tr>\n",
       "    <tr>\n",
       "      <th>2</th>\n",
       "      <td>pos_572.jpg</td>\n",
       "      <td>34.007962</td>\n",
       "      <td>0.344310</td>\n",
       "      <td>3</td>\n",
       "      <td>0.044327</td>\n",
       "      <td>0.000631</td>\n",
       "      <td>0.414382</td>\n",
       "      <td>0.122435</td>\n",
       "      <td>0.000000</td>\n",
       "      <td>0.272498</td>\n",
       "      <td>...</td>\n",
       "      <td>0.036678</td>\n",
       "      <td>0.258280</td>\n",
       "      <td>0.058381</td>\n",
       "      <td>0.364330</td>\n",
       "      <td>0.000000</td>\n",
       "      <td>0.302129</td>\n",
       "      <td>0.000000</td>\n",
       "      <td>0.522075</td>\n",
       "      <td>0.022810</td>\n",
       "      <td>2</td>\n",
       "    </tr>\n",
       "    <tr>\n",
       "      <th>3</th>\n",
       "      <td>pos_574.jpg</td>\n",
       "      <td>27.556911</td>\n",
       "      <td>0.913257</td>\n",
       "      <td>3</td>\n",
       "      <td>0.084930</td>\n",
       "      <td>0.900116</td>\n",
       "      <td>0.000000</td>\n",
       "      <td>0.000000</td>\n",
       "      <td>0.336989</td>\n",
       "      <td>0.012790</td>\n",
       "      <td>...</td>\n",
       "      <td>0.076154</td>\n",
       "      <td>0.020689</td>\n",
       "      <td>0.009018</td>\n",
       "      <td>0.043529</td>\n",
       "      <td>0.013384</td>\n",
       "      <td>1.270410</td>\n",
       "      <td>0.016811</td>\n",
       "      <td>0.000000</td>\n",
       "      <td>0.534931</td>\n",
       "      <td>2</td>\n",
       "    </tr>\n",
       "    <tr>\n",
       "      <th>4</th>\n",
       "      <td>pos_576.jpg</td>\n",
       "      <td>34.490304</td>\n",
       "      <td>0.901202</td>\n",
       "      <td>2</td>\n",
       "      <td>0.265636</td>\n",
       "      <td>0.390372</td>\n",
       "      <td>0.117766</td>\n",
       "      <td>0.256120</td>\n",
       "      <td>0.000000</td>\n",
       "      <td>0.219103</td>\n",
       "      <td>...</td>\n",
       "      <td>0.113120</td>\n",
       "      <td>0.125788</td>\n",
       "      <td>0.194172</td>\n",
       "      <td>0.308126</td>\n",
       "      <td>0.144336</td>\n",
       "      <td>0.151401</td>\n",
       "      <td>0.186623</td>\n",
       "      <td>0.049364</td>\n",
       "      <td>0.118183</td>\n",
       "      <td>2</td>\n",
       "    </tr>\n",
       "    <tr>\n",
       "      <th>...</th>\n",
       "      <td>...</td>\n",
       "      <td>...</td>\n",
       "      <td>...</td>\n",
       "      <td>...</td>\n",
       "      <td>...</td>\n",
       "      <td>...</td>\n",
       "      <td>...</td>\n",
       "      <td>...</td>\n",
       "      <td>...</td>\n",
       "      <td>...</td>\n",
       "      <td>...</td>\n",
       "      <td>...</td>\n",
       "      <td>...</td>\n",
       "      <td>...</td>\n",
       "      <td>...</td>\n",
       "      <td>...</td>\n",
       "      <td>...</td>\n",
       "      <td>...</td>\n",
       "      <td>...</td>\n",
       "      <td>...</td>\n",
       "      <td>...</td>\n",
       "    </tr>\n",
       "    <tr>\n",
       "      <th>3747</th>\n",
       "      <td>neg_1076.jpg</td>\n",
       "      <td>32.542496</td>\n",
       "      <td>0.884925</td>\n",
       "      <td>2</td>\n",
       "      <td>0.102904</td>\n",
       "      <td>0.084249</td>\n",
       "      <td>0.040118</td>\n",
       "      <td>0.163923</td>\n",
       "      <td>0.003421</td>\n",
       "      <td>0.047426</td>\n",
       "      <td>...</td>\n",
       "      <td>0.119336</td>\n",
       "      <td>0.045490</td>\n",
       "      <td>0.103114</td>\n",
       "      <td>0.032927</td>\n",
       "      <td>0.020343</td>\n",
       "      <td>0.347514</td>\n",
       "      <td>0.022912</td>\n",
       "      <td>0.166659</td>\n",
       "      <td>0.038684</td>\n",
       "      <td>0</td>\n",
       "    </tr>\n",
       "    <tr>\n",
       "      <th>3748</th>\n",
       "      <td>neg_1071.jpg</td>\n",
       "      <td>31.486500</td>\n",
       "      <td>0.742181</td>\n",
       "      <td>2</td>\n",
       "      <td>0.052510</td>\n",
       "      <td>0.402606</td>\n",
       "      <td>0.015196</td>\n",
       "      <td>0.007053</td>\n",
       "      <td>0.125443</td>\n",
       "      <td>0.100014</td>\n",
       "      <td>...</td>\n",
       "      <td>0.216314</td>\n",
       "      <td>0.004413</td>\n",
       "      <td>0.055449</td>\n",
       "      <td>0.000000</td>\n",
       "      <td>0.127751</td>\n",
       "      <td>0.129013</td>\n",
       "      <td>0.048542</td>\n",
       "      <td>0.121859</td>\n",
       "      <td>0.033795</td>\n",
       "      <td>0</td>\n",
       "    </tr>\n",
       "    <tr>\n",
       "      <th>3749</th>\n",
       "      <td>neg_1078.jpg</td>\n",
       "      <td>30.142811</td>\n",
       "      <td>0.899529</td>\n",
       "      <td>2</td>\n",
       "      <td>0.108071</td>\n",
       "      <td>0.240999</td>\n",
       "      <td>0.054670</td>\n",
       "      <td>0.077519</td>\n",
       "      <td>0.022788</td>\n",
       "      <td>0.146925</td>\n",
       "      <td>...</td>\n",
       "      <td>0.065093</td>\n",
       "      <td>0.025963</td>\n",
       "      <td>0.001869</td>\n",
       "      <td>0.000000</td>\n",
       "      <td>0.081549</td>\n",
       "      <td>0.287423</td>\n",
       "      <td>0.154524</td>\n",
       "      <td>0.111062</td>\n",
       "      <td>0.018890</td>\n",
       "      <td>0</td>\n",
       "    </tr>\n",
       "    <tr>\n",
       "      <th>3750</th>\n",
       "      <td>neg_1077.jpg</td>\n",
       "      <td>35.505142</td>\n",
       "      <td>0.876111</td>\n",
       "      <td>2</td>\n",
       "      <td>0.035995</td>\n",
       "      <td>0.135388</td>\n",
       "      <td>0.019874</td>\n",
       "      <td>0.153930</td>\n",
       "      <td>0.013208</td>\n",
       "      <td>0.206492</td>\n",
       "      <td>...</td>\n",
       "      <td>0.231069</td>\n",
       "      <td>0.249328</td>\n",
       "      <td>0.011936</td>\n",
       "      <td>0.032921</td>\n",
       "      <td>0.229262</td>\n",
       "      <td>0.156046</td>\n",
       "      <td>0.009490</td>\n",
       "      <td>0.040021</td>\n",
       "      <td>0.172498</td>\n",
       "      <td>0</td>\n",
       "    </tr>\n",
       "    <tr>\n",
       "      <th>3751</th>\n",
       "      <td>neg_1079.jpg</td>\n",
       "      <td>34.023558</td>\n",
       "      <td>0.579648</td>\n",
       "      <td>2</td>\n",
       "      <td>0.059723</td>\n",
       "      <td>0.387357</td>\n",
       "      <td>0.260294</td>\n",
       "      <td>0.134838</td>\n",
       "      <td>0.189901</td>\n",
       "      <td>0.019578</td>\n",
       "      <td>...</td>\n",
       "      <td>0.111839</td>\n",
       "      <td>0.288609</td>\n",
       "      <td>0.292512</td>\n",
       "      <td>0.115901</td>\n",
       "      <td>0.174943</td>\n",
       "      <td>0.759744</td>\n",
       "      <td>0.027207</td>\n",
       "      <td>0.037839</td>\n",
       "      <td>0.000000</td>\n",
       "      <td>0</td>\n",
       "    </tr>\n",
       "  </tbody>\n",
       "</table>\n",
       "<p>3752 rows × 1029 columns</p>\n",
       "</div>"
      ],
      "text/plain": [
       "          filename        age    gender  target         0         1         2  \\\n",
       "0      pos_575.jpg  32.540987  0.702918       3  0.192024  0.247141  0.215001   \n",
       "1      pos_571.jpg  30.499367  0.537119       3  0.241812  0.139867  0.296436   \n",
       "2      pos_572.jpg  34.007962  0.344310       3  0.044327  0.000631  0.414382   \n",
       "3      pos_574.jpg  27.556911  0.913257       3  0.084930  0.900116  0.000000   \n",
       "4      pos_576.jpg  34.490304  0.901202       2  0.265636  0.390372  0.117766   \n",
       "...            ...        ...       ...     ...       ...       ...       ...   \n",
       "3747  neg_1076.jpg  32.542496  0.884925       2  0.102904  0.084249  0.040118   \n",
       "3748  neg_1071.jpg  31.486500  0.742181       2  0.052510  0.402606  0.015196   \n",
       "3749  neg_1078.jpg  30.142811  0.899529       2  0.108071  0.240999  0.054670   \n",
       "3750  neg_1077.jpg  35.505142  0.876111       2  0.035995  0.135388  0.019874   \n",
       "3751  neg_1079.jpg  34.023558  0.579648       2  0.059723  0.387357  0.260294   \n",
       "\n",
       "             3         4         5  ...      1015      1016      1017  \\\n",
       "0     0.025266  0.007561  0.128036  ...  0.152416  0.085822  0.104665   \n",
       "1     0.822290  0.045836  0.066887  ...  0.055932  0.099419  0.060477   \n",
       "2     0.122435  0.000000  0.272498  ...  0.036678  0.258280  0.058381   \n",
       "3     0.000000  0.336989  0.012790  ...  0.076154  0.020689  0.009018   \n",
       "4     0.256120  0.000000  0.219103  ...  0.113120  0.125788  0.194172   \n",
       "...        ...       ...       ...  ...       ...       ...       ...   \n",
       "3747  0.163923  0.003421  0.047426  ...  0.119336  0.045490  0.103114   \n",
       "3748  0.007053  0.125443  0.100014  ...  0.216314  0.004413  0.055449   \n",
       "3749  0.077519  0.022788  0.146925  ...  0.065093  0.025963  0.001869   \n",
       "3750  0.153930  0.013208  0.206492  ...  0.231069  0.249328  0.011936   \n",
       "3751  0.134838  0.189901  0.019578  ...  0.111839  0.288609  0.292512   \n",
       "\n",
       "          1018      1019      1020      1021      1022      1023  emotion  \n",
       "0     0.122048  0.461803  0.071234  0.140374  0.107920  0.229319        2  \n",
       "1     0.351158  0.739378  0.005959  0.015202  0.045890  0.115706        2  \n",
       "2     0.364330  0.000000  0.302129  0.000000  0.522075  0.022810        2  \n",
       "3     0.043529  0.013384  1.270410  0.016811  0.000000  0.534931        2  \n",
       "4     0.308126  0.144336  0.151401  0.186623  0.049364  0.118183        2  \n",
       "...        ...       ...       ...       ...       ...       ...      ...  \n",
       "3747  0.032927  0.020343  0.347514  0.022912  0.166659  0.038684        0  \n",
       "3748  0.000000  0.127751  0.129013  0.048542  0.121859  0.033795        0  \n",
       "3749  0.000000  0.081549  0.287423  0.154524  0.111062  0.018890        0  \n",
       "3750  0.032921  0.229262  0.156046  0.009490  0.040021  0.172498        0  \n",
       "3751  0.115901  0.174943  0.759744  0.027207  0.037839  0.000000        0  \n",
       "\n",
       "[3752 rows x 1029 columns]"
      ]
     },
     "execution_count": 3,
     "metadata": {},
     "output_type": "execute_result"
    }
   ],
   "source": [
    "val = pd.read_pickle('val_set.pickle')\n",
    "val['filename'] = val['filename'].apply(lambda x: x.split('/')[-1])\n",
    "val['features'] = val['features'].apply(lambda x: np.mean(x, axis=0))\n",
    "val['age'] = val['age'].apply(lambda x: np.median(x))\n",
    "val['gender'] = val['gender'].apply(lambda x: np.median(x))\n",
    "labels = pd.read_csv('validation.txt', header=None, sep='  ')\n",
    "val = pd.merge(val, labels, how='inner', left_on='filename', right_on=0)\n",
    "val = val.rename(columns={0: 'name', 1: \"target\"})\n",
    "val.dropna(inplace=True)\n",
    "for i in range(1024):\n",
    "    val[i] = [x[i] for x in val['features']]\n",
    "val.drop(['name', 'features'], axis=1, inplace=True)\n",
    "val['emotion'] = list(map(lambda x: x.split('_')[0], val['filename']))\n",
    "val['emotion'] = val['emotion'].apply(lambda x: (0 if x == 'neg' else (1 if x == 'neu' else (2 if x == 'pos' else x))))\n",
    "val.reset_index(drop=True, inplace=True)\n",
    "val"
   ]
  },
  {
   "cell_type": "code",
   "execution_count": 4,
   "metadata": {},
   "outputs": [
    {
     "data": {
      "text/plain": [
       "0       2\n",
       "1       2\n",
       "2       2\n",
       "3       2\n",
       "4       3\n",
       "       ..\n",
       "8454    2\n",
       "8455    1\n",
       "8456    2\n",
       "8457    1\n",
       "8458    1\n",
       "Name: target, Length: 8459, dtype: int64"
      ]
     },
     "execution_count": 4,
     "metadata": {},
     "output_type": "execute_result"
    }
   ],
   "source": [
    "train['target']"
   ]
  },
  {
   "cell_type": "code",
   "execution_count": 5,
   "metadata": {},
   "outputs": [
    {
     "name": "stderr",
     "output_type": "stream",
     "text": [
      "Using TensorFlow backend.\n"
     ]
    }
   ],
   "source": [
    "import keras\n",
    "early_stop = keras.callbacks.callbacks.EarlyStopping(monitor='val_loss', min_delta=0, patience=5, verbose=0, mode='auto', baseline=None, restore_best_weights=True)"
   ]
  },
  {
   "cell_type": "code",
   "execution_count": 7,
   "metadata": {},
   "outputs": [],
   "source": [
    "from sklearn.decomposition import PCA\n",
    "train_set = train.drop(['filename', 'target', 'emotion'], axis=1)\n",
    "val_set = val.drop(['filename', 'target', 'emotion'], axis=1)\n",
    "# train_set = PCA(n_components=848).fit_transform(train_set)\n",
    "# val_set = PCA(n_components=848).fit_transform(val_set)\n",
    "train_set = np.expand_dims(train_set, axis=2)\n",
    "val_set = np.expand_dims(val_set, axis=2)"
   ]
  },
  {
   "cell_type": "code",
   "execution_count": 8,
   "metadata": {},
   "outputs": [
    {
     "data": {
      "text/plain": [
       "(3752, 1026, 1)"
      ]
     },
     "execution_count": 8,
     "metadata": {},
     "output_type": "execute_result"
    }
   ],
   "source": [
    "val_set.shape"
   ]
  },
  {
   "cell_type": "code",
   "execution_count": 9,
   "metadata": {
    "scrolled": false
   },
   "outputs": [
    {
     "name": "stdout",
     "output_type": "stream",
     "text": [
      "Train on 8459 samples, validate on 3752 samples\n",
      "Epoch 1/100\n",
      "8459/8459 [==============================] - 633s 75ms/step - loss: 1.9823 - regression_loss: 1.0372 - classification_loss: 0.9438 - regression_mse: 1.0382 - classification_accuracy: 0.5341 - val_loss: 1.4702 - val_regression_loss: 0.6810 - val_classification_loss: 0.7848 - val_regression_mse: 0.6852 - val_classification_accuracy: 0.6687\n",
      "Epoch 2/100\n",
      "8459/8459 [==============================] - 632s 75ms/step - loss: 1.4846 - regression_loss: 0.7532 - classification_loss: 0.7322 - regression_mse: 0.7531 - classification_accuracy: 0.6715 - val_loss: 1.4139 - val_regression_loss: 0.6721 - val_classification_loss: 0.7371 - val_regression_mse: 0.6761 - val_classification_accuracy: 0.6780\n",
      "Epoch 3/100\n",
      "8459/8459 [==============================] - 624s 74ms/step - loss: 1.3669 - regression_loss: 0.7003 - classification_loss: 0.6665 - regression_mse: 0.7008 - classification_accuracy: 0.6959 - val_loss: 1.3773 - val_regression_loss: 0.6474 - val_classification_loss: 0.7282 - val_regression_mse: 0.6513 - val_classification_accuracy: 0.6770\n",
      "Epoch 4/100\n",
      "8459/8459 [==============================] - 585s 69ms/step - loss: 1.2757 - regression_loss: 0.6665 - classification_loss: 0.6082 - regression_mse: 0.6671 - classification_accuracy: 0.7257 - val_loss: 1.4663 - val_regression_loss: 0.7139 - val_classification_loss: 0.7475 - val_regression_mse: 0.7183 - val_classification_accuracy: 0.6650\n",
      "Epoch 5/100\n",
      "8459/8459 [==============================] - 548s 65ms/step - loss: 1.2183 - regression_loss: 0.6404 - classification_loss: 0.5787 - regression_mse: 0.6394 - classification_accuracy: 0.7410 - val_loss: 1.4524 - val_regression_loss: 0.7313 - val_classification_loss: 0.7172 - val_regression_mse: 0.7355 - val_classification_accuracy: 0.6911\n",
      "Epoch 6/100\n",
      "8459/8459 [==============================] - 605s 72ms/step - loss: 1.1378 - regression_loss: 0.6069 - classification_loss: 0.5294 - regression_mse: 0.6078 - classification_accuracy: 0.7673 - val_loss: 1.4263 - val_regression_loss: 0.6911 - val_classification_loss: 0.7324 - val_regression_mse: 0.6950 - val_classification_accuracy: 0.6860\n",
      "Epoch 7/100\n",
      "8459/8459 [==============================] - 624s 74ms/step - loss: 1.0470 - regression_loss: 0.5615 - classification_loss: 0.4853 - regression_mse: 0.5613 - classification_accuracy: 0.7877 - val_loss: 1.5226 - val_regression_loss: 0.7101 - val_classification_loss: 0.8088 - val_regression_mse: 0.7141 - val_classification_accuracy: 0.6772\n",
      "Epoch 8/100\n",
      "8459/8459 [==============================] - 626s 74ms/step - loss: 0.9358 - regression_loss: 0.5107 - classification_loss: 0.4255 - regression_mse: 0.5107 - classification_accuracy: 0.8227 - val_loss: 1.6028 - val_regression_loss: 0.8045 - val_classification_loss: 0.7941 - val_regression_mse: 0.8079 - val_classification_accuracy: 0.6714\n"
     ]
    },
    {
     "data": {
      "text/plain": [
       "<keras.callbacks.callbacks.History at 0x214c263c188>"
      ]
     },
     "execution_count": 9,
     "metadata": {},
     "output_type": "execute_result"
    }
   ],
   "source": [
    "from keras.models import Model\n",
    "from keras.layers import *\n",
    "\n",
    "inp = Input(shape=(1026,1))\n",
    "x = Dense(600, activation='tanh')(inp)\n",
    "x = Conv1D(512, 3, padding='same', activation='relu')(x)\n",
    "x = MaxPooling1D(3)(x)\n",
    "x = Flatten()(x)\n",
    "x = Dense(200, activation='sigmoid')(x)\n",
    "2\n",
    "out1 = Dense(1, activation='linear', name='regression')(x)\n",
    "out2 = Dense(3, activation='softmax', name='classification')(x)\n",
    "\n",
    "model = Model(inp, [out1, out2])\n",
    "model.compile(optimizer='adam', loss={'classification':'sparse_categorical_crossentropy', 'regression':'mse'}, \n",
    "              metrics={'classification':'accuracy', 'regression':'mse'})\n",
    "model.fit(train_set, {'regression':train['target'], 'classification':train['emotion']}, epochs=100, batch_size=32,\n",
    "          validation_data=[val_set, {'regression':val['target'], 'classification':val['emotion']}], callbacks=[early_stop])"
   ]
  },
  {
   "cell_type": "code",
   "execution_count": 10,
   "metadata": {},
   "outputs": [
    {
     "name": "stdout",
     "output_type": "stream",
     "text": [
      "              precision    recall  f1-score   support\n",
      "\n",
      "           0       0.74      0.45      0.56      2226\n",
      "           1       0.64      0.65      0.65      2635\n",
      "           2       0.75      0.92      0.82      3598\n",
      "\n",
      "    accuracy                           0.71      8459\n",
      "   macro avg       0.71      0.67      0.68      8459\n",
      "weighted avg       0.71      0.71      0.70      8459\n",
      "\n",
      "              precision    recall  f1-score   support\n",
      "\n",
      "           0       0.70      0.40      0.51      1060\n",
      "           1       0.59      0.65      0.62      1128\n",
      "           2       0.73      0.88      0.80      1564\n",
      "\n",
      "    accuracy                           0.68      3752\n",
      "   macro avg       0.67      0.65      0.64      3752\n",
      "weighted avg       0.68      0.68      0.66      3752\n",
      "\n",
      "0.6448125442293355\n",
      "0.651296800923749\n"
     ]
    }
   ],
   "source": [
    "print(classification_report(train['emotion'], [np.argmax(x) for x in model.predict(train_set)[1]]))\n",
    "print(classification_report(val['emotion'], [np.argmax(x) for x in model.predict(val_set)[1]]))\n",
    "from sklearn.metrics import mean_squared_error\n",
    "print(mean_squared_error(train['target'], model.predict(train_set)[0]))\n",
    "print(mean_squared_error(val['target'], model.predict(val_set)[0]))"
   ]
  },
  {
   "cell_type": "code",
   "execution_count": 32,
   "metadata": {},
   "outputs": [],
   "source": [
    "from sklearn.decomposition import PCA\n",
    "train_set = train.drop(['filename', 'target', 'emotion'], axis=1)\n",
    "val_set = val.drop(['filename', 'target', 'emotion'], axis=1)\n",
    "# train_set = PCA(n_components=848).fit_transform(train_set)\n",
    "# val_set = PCA(n_components=848).fit_transform(val_set)\n",
    "train_set = np.expand_dims(train_set, axis=2)\n",
    "val_set = np.expand_dims(val_set, axis=2)"
   ]
  },
  {
   "cell_type": "code",
   "execution_count": 33,
   "metadata": {
    "scrolled": false
   },
   "outputs": [
    {
     "name": "stdout",
     "output_type": "stream",
     "text": [
      "Train on 8459 samples, validate on 3752 samples\n",
      "Epoch 1/100\n",
      "8459/8459 [==============================] - 363s 43ms/step - loss: 1.9043 - regression_loss: 0.9421 - classification_loss: 0.9599 - regression_mse: 0.9434 - classification_accuracy: 0.5245 - val_loss: 1.5394 - val_regression_loss: 0.7271 - val_classification_loss: 0.8091 - val_regression_mse: 0.7310 - val_classification_accuracy: 0.6301\n",
      "Epoch 2/100\n",
      "8459/8459 [==============================] - 320s 38ms/step - loss: 1.4605 - regression_loss: 0.7260 - classification_loss: 0.7343 - regression_mse: 0.7262 - classification_accuracy: 0.6664 - val_loss: 1.4281 - val_regression_loss: 0.6613 - val_classification_loss: 0.7627 - val_regression_mse: 0.6653 - val_classification_accuracy: 0.6580\n",
      "Epoch 3/100\n",
      "8459/8459 [==============================] - 299s 35ms/step - loss: 1.3425 - regression_loss: 0.6809 - classification_loss: 0.6603 - regression_mse: 0.6815 - classification_accuracy: 0.6984 - val_loss: 1.3949 - val_regression_loss: 0.6832 - val_classification_loss: 0.7067 - val_regression_mse: 0.6874 - val_classification_accuracy: 0.6836\n",
      "Epoch 4/100\n",
      "8459/8459 [==============================] - 254s 30ms/step - loss: 1.2423 - regression_loss: 0.6374 - classification_loss: 0.6035 - regression_mse: 0.6378 - classification_accuracy: 0.7292 - val_loss: 1.4421 - val_regression_loss: 0.7001 - val_classification_loss: 0.7377 - val_regression_mse: 0.7045 - val_classification_accuracy: 0.6823\n",
      "Epoch 5/100\n",
      "8459/8459 [==============================] - 256s 30ms/step - loss: 1.1169 - regression_loss: 0.5746 - classification_loss: 0.5425 - regression_mse: 0.5755 - classification_accuracy: 0.7619 - val_loss: 1.4474 - val_regression_loss: 0.7037 - val_classification_loss: 0.7392 - val_regression_mse: 0.7078 - val_classification_accuracy: 0.6767\n",
      "Epoch 6/100\n",
      "8459/8459 [==============================] - 260s 31ms/step - loss: 0.9636 - regression_loss: 0.4982 - classification_loss: 0.4655 - regression_mse: 0.4981 - classification_accuracy: 0.8072 - val_loss: 1.5570 - val_regression_loss: 0.7827 - val_classification_loss: 0.7684 - val_regression_mse: 0.7875 - val_classification_accuracy: 0.6676\n",
      "Epoch 7/100\n",
      "8459/8459 [==============================] - 274s 32ms/step - loss: 0.7875 - regression_loss: 0.4080 - classification_loss: 0.3817 - regression_mse: 0.4068 - classification_accuracy: 0.8507 - val_loss: 1.5912 - val_regression_loss: 0.7917 - val_classification_loss: 0.7926 - val_regression_mse: 0.7966 - val_classification_accuracy: 0.6839\n",
      "Epoch 8/100\n",
      "8459/8459 [==============================] - 268s 32ms/step - loss: 0.6211 - regression_loss: 0.3123 - classification_loss: 0.3091 - regression_mse: 0.3121 - classification_accuracy: 0.8880 - val_loss: 1.7168 - val_regression_loss: 0.8614 - val_classification_loss: 0.8489 - val_regression_mse: 0.8661 - val_classification_accuracy: 0.6706\n"
     ]
    },
    {
     "data": {
      "text/plain": [
       "<keras.callbacks.callbacks.History at 0x214d37dff88>"
      ]
     },
     "execution_count": 33,
     "metadata": {},
     "output_type": "execute_result"
    }
   ],
   "source": [
    "inp = Input(shape=(1026,1))\n",
    "x = Dense(300, activation='tanh')(inp)\n",
    "x = Conv1D(512, 3, padding='same', activation='relu')(x)\n",
    "x = MaxPooling1D(3)(x)\n",
    "x = Conv1D(256, 2, padding='same', activation='relu')(x)\n",
    "x = MaxPooling1D(2)(x)\n",
    "x = Flatten()(x)\n",
    "x = Dense(100, activation='sigmoid')(x)\n",
    "\n",
    "out1 = Dense(1, activation='linear', name='regression')(x)\n",
    "out2 = Dense(3, activation='softmax', name='classification')(x)\n",
    "\n",
    "model = Model(inp, [out1, out2])\n",
    "model.compile(optimizer='adam', loss={'classification':'sparse_categorical_crossentropy', 'regression':'mse'}, \n",
    "              metrics={'classification':'accuracy', 'regression':'mse'})\n",
    "model.fit(train_set, {'regression':train['target'], 'classification':train['emotion']}, epochs=100, batch_size=32,\n",
    "          validation_data=[val_set, {'regression':val['target'], 'classification':val['emotion']}], callbacks=[early_stop])"
   ]
  },
  {
   "cell_type": "code",
   "execution_count": 34,
   "metadata": {},
   "outputs": [
    {
     "name": "stdout",
     "output_type": "stream",
     "text": [
      "              precision    recall  f1-score   support\n",
      "\n",
      "           0       0.62      0.73      0.67      2226\n",
      "           1       0.70      0.58      0.63      2635\n",
      "           2       0.85      0.87      0.86      3598\n",
      "\n",
      "    accuracy                           0.74      8459\n",
      "   macro avg       0.72      0.72      0.72      8459\n",
      "weighted avg       0.74      0.74      0.74      8459\n",
      "\n",
      "              precision    recall  f1-score   support\n",
      "\n",
      "           0       0.59      0.65      0.62      1060\n",
      "           1       0.60      0.51      0.55      1128\n",
      "           2       0.80      0.83      0.82      1564\n",
      "\n",
      "    accuracy                           0.68      3752\n",
      "   macro avg       0.66      0.66      0.66      3752\n",
      "weighted avg       0.68      0.68      0.68      3752\n",
      "\n",
      "0.6213526113477423\n",
      "0.6873641540613148\n"
     ]
    }
   ],
   "source": [
    "print(classification_report(train['emotion'], [np.argmax(x) for x in model.predict(train_set)[1]]))\n",
    "print(classification_report(val['emotion'], [np.argmax(x) for x in model.predict(val_set)[1]]))\n",
    "from sklearn.metrics import mean_squared_error\n",
    "print(mean_squared_error(train['target'], model.predict(train_set)[0]))\n",
    "print(mean_squared_error(val['target'], model.predict(val_set)[0]))"
   ]
  },
  {
   "cell_type": "code",
   "execution_count": 56,
   "metadata": {},
   "outputs": [],
   "source": [
    "from sklearn.decomposition import PCA\n",
    "train_set = train.drop(['filename', 'target', 'emotion'], axis=1)\n",
    "val_set = val.drop(['filename', 'target', 'emotion'], axis=1)\n",
    "# train_set = PCA(n_components=848).fit_transform(train_set)\n",
    "# val_set = PCA(n_components=848).fit_transform(val_set)\n",
    "train_set = np.expand_dims(train_set, axis=2)\n",
    "val_set = np.expand_dims(val_set, axis=2)"
   ]
  },
  {
   "cell_type": "code",
   "execution_count": 57,
   "metadata": {
    "scrolled": false
   },
   "outputs": [
    {
     "name": "stdout",
     "output_type": "stream",
     "text": [
      "Train on 8459 samples, validate on 3752 samples\n",
      "Epoch 1/100\n",
      "8459/8459 [==============================] - 398s 47ms/step - loss: 1.8562 - regression_loss: 0.8327 - classification_loss: 1.0218 - regression_mse: 0.8338 - classification_accuracy: 0.4744 - val_loss: 1.7061 - val_regression_loss: 0.7578 - val_classification_loss: 0.9446 - val_regression_mse: 0.7625 - val_classification_accuracy: 0.5229\n",
      "Epoch 2/100\n",
      "8459/8459 [==============================] - 400s 47ms/step - loss: 1.6181 - regression_loss: 0.7768 - classification_loss: 0.8422 - regression_mse: 0.7759 - classification_accuracy: 0.6133 - val_loss: 1.5189 - val_regression_loss: 0.7056 - val_classification_loss: 0.8085 - val_regression_mse: 0.7094 - val_classification_accuracy: 0.6325\n",
      "Epoch 3/100\n",
      "8459/8459 [==============================] - 409s 48ms/step - loss: 1.4960 - regression_loss: 0.7360 - classification_loss: 0.7606 - regression_mse: 0.7361 - classification_accuracy: 0.6494 - val_loss: 1.4482 - val_regression_loss: 0.6690 - val_classification_loss: 0.7749 - val_regression_mse: 0.6729 - val_classification_accuracy: 0.6447\n",
      "Epoch 4/100\n",
      "8459/8459 [==============================] - 422s 50ms/step - loss: 1.4118 - regression_loss: 0.7052 - classification_loss: 0.7067 - regression_mse: 0.7051 - classification_accuracy: 0.6829 - val_loss: 1.5623 - val_regression_loss: 0.7808 - val_classification_loss: 0.7778 - val_regression_mse: 0.7839 - val_classification_accuracy: 0.6495\n",
      "Epoch 5/100\n",
      "8459/8459 [==============================] - 407s 48ms/step - loss: 1.3342 - regression_loss: 0.6737 - classification_loss: 0.6628 - regression_mse: 0.6717 - classification_accuracy: 0.7027 - val_loss: 1.5014 - val_regression_loss: 0.7112 - val_classification_loss: 0.7851 - val_regression_mse: 0.7150 - val_classification_accuracy: 0.6487\n",
      "Epoch 6/100\n",
      "8459/8459 [==============================] - 422s 50ms/step - loss: 1.2595 - regression_loss: 0.6328 - classification_loss: 0.6258 - regression_mse: 0.6330 - classification_accuracy: 0.7212 - val_loss: 1.5392 - val_regression_loss: 0.7534 - val_classification_loss: 0.7791 - val_regression_mse: 0.7580 - val_classification_accuracy: 0.6415\n",
      "Epoch 7/100\n",
      "8459/8459 [==============================] - 407s 48ms/step - loss: 1.1619 - regression_loss: 0.5794 - classification_loss: 0.5830 - regression_mse: 0.5789 - classification_accuracy: 0.7407 - val_loss: 1.5471 - val_regression_loss: 0.7531 - val_classification_loss: 0.7881 - val_regression_mse: 0.7575 - val_classification_accuracy: 0.6519\n",
      "Epoch 8/100\n",
      "8459/8459 [==============================] - 421s 50ms/step - loss: 1.0451 - regression_loss: 0.5148 - classification_loss: 0.5296 - regression_mse: 0.5152 - classification_accuracy: 0.7703 - val_loss: 1.6510 - val_regression_loss: 0.8235 - val_classification_loss: 0.8223 - val_regression_mse: 0.8274 - val_classification_accuracy: 0.6498\n"
     ]
    },
    {
     "data": {
      "text/plain": [
       "<keras.callbacks.callbacks.History at 0x2151189f048>"
      ]
     },
     "execution_count": 57,
     "metadata": {},
     "output_type": "execute_result"
    }
   ],
   "source": [
    "inp = Input(shape=(1026,1))\n",
    "x = Dense(600, activation='tanh')(inp)\n",
    "x = Conv1D(512, 3, padding='same', activation='relu')(x)\n",
    "x = MaxPooling1D(3)(x)\n",
    "x = Conv1D(256, 2, padding='same', activation='relu')(x)\n",
    "x = MaxPooling1D(2)(x)\n",
    "x = Conv1D(128, 2, padding='same', activation='relu')(x)\n",
    "x = MaxPooling1D(2)(x)\n",
    "x = Flatten()(x)\n",
    "x = Dense(100, activation='sigmoid')(x)\n",
    "\n",
    "out1 = Dense(1, activation='linear', name='regression')(x)\n",
    "out2 = Dense(3, activation='softmax', name='classification')(x)\n",
    "\n",
    "model = Model(inp, [out1, out2])\n",
    "model.compile(optimizer='adam', loss={'classification':'sparse_categorical_crossentropy', 'regression':'mse'}, \n",
    "              metrics={'classification':'accuracy', 'regression':'mse'})\n",
    "model.fit(train_set, {'regression':train['target'], 'classification':train['emotion']}, epochs=100, batch_size=32,\n",
    "          validation_data=[val_set, {'regression':val['target'], 'classification':val['emotion']}], callbacks=[early_stop])"
   ]
  },
  {
   "cell_type": "code",
   "execution_count": 58,
   "metadata": {},
   "outputs": [
    {
     "name": "stdout",
     "output_type": "stream",
     "text": [
      "              precision    recall  f1-score   support\n",
      "\n",
      "           0       0.59      0.61      0.60      2226\n",
      "           1       0.63      0.54      0.58      2635\n",
      "           2       0.78      0.84      0.81      3598\n",
      "\n",
      "    accuracy                           0.69      8459\n",
      "   macro avg       0.67      0.66      0.66      8459\n",
      "weighted avg       0.68      0.69      0.68      8459\n",
      "\n",
      "              precision    recall  f1-score   support\n",
      "\n",
      "           0       0.56      0.53      0.55      1060\n",
      "           1       0.57      0.51      0.54      1128\n",
      "           2       0.74      0.82      0.77      1564\n",
      "\n",
      "    accuracy                           0.64      3752\n",
      "   macro avg       0.62      0.62      0.62      3752\n",
      "weighted avg       0.64      0.64      0.64      3752\n",
      "\n",
      "0.6864446095890525\n",
      "0.6728663010952861\n"
     ]
    }
   ],
   "source": [
    "print(classification_report(train['emotion'], [np.argmax(x) for x in model.predict(train_set)[1]]))\n",
    "print(classification_report(val['emotion'], [np.argmax(x) for x in model.predict(val_set)[1]]))\n",
    "from sklearn.metrics import mean_squared_error\n",
    "print(mean_squared_error(train['target'], model.predict(train_set)[0]))\n",
    "print(mean_squared_error(val['target'], model.predict(val_set)[0]))"
   ]
  },
  {
   "cell_type": "code",
   "execution_count": 16,
   "metadata": {},
   "outputs": [
    {
     "name": "stdout",
     "output_type": "stream",
     "text": [
      "3752/3752 [==============================] - 53s 14ms/step\n"
     ]
    },
    {
     "data": {
      "text/plain": [
       "[1.4182921396389698,\n",
       " 0.6913327574729919,\n",
       " 0.7219201326370239,\n",
       " 0.6956148743629456,\n",
       " 0.6775053143501282]"
      ]
     },
     "execution_count": 16,
     "metadata": {},
     "output_type": "execute_result"
    }
   ],
   "source": [
    "model.evaluate(val_set, {'regression':val['target'], 'classification':val['emotion']})"
   ]
  },
  {
   "cell_type": "code",
   "execution_count": 17,
   "metadata": {},
   "outputs": [
    {
     "data": {
      "text/plain": [
       "['loss',\n",
       " 'regression_loss',\n",
       " 'classification_loss',\n",
       " 'regression_mse',\n",
       " 'classification_accuracy']"
      ]
     },
     "execution_count": 17,
     "metadata": {},
     "output_type": "execute_result"
    }
   ],
   "source": [
    "model.metrics_names"
   ]
  },
  {
   "cell_type": "code",
   "execution_count": 6,
   "metadata": {},
   "outputs": [
    {
     "data": {
      "application/vnd.jupyter.widget-view+json": {
       "model_id": "88f8d7d9bc2943f1a0f499b605fc5f9d",
       "version_major": 2,
       "version_minor": 0
      },
      "text/plain": [
       "HBox(children=(FloatProgress(value=0.0, max=9300.0), HTML(value='')))"
      ]
     },
     "metadata": {},
     "output_type": "display_data"
    },
    {
     "name": "stdout",
     "output_type": "stream",
     "text": [
      "\n"
     ]
    },
    {
     "data": {
      "text/html": [
       "<div>\n",
       "<style scoped>\n",
       "    .dataframe tbody tr th:only-of-type {\n",
       "        vertical-align: middle;\n",
       "    }\n",
       "\n",
       "    .dataframe tbody tr th {\n",
       "        vertical-align: top;\n",
       "    }\n",
       "\n",
       "    .dataframe thead th {\n",
       "        text-align: right;\n",
       "    }\n",
       "</style>\n",
       "<table border=\"1\" class=\"dataframe\">\n",
       "  <thead>\n",
       "    <tr style=\"text-align: right;\">\n",
       "      <th></th>\n",
       "      <th>img</th>\n",
       "    </tr>\n",
       "  </thead>\n",
       "  <tbody>\n",
       "    <tr>\n",
       "      <th>0</th>\n",
       "      <td>[[[21, 3, 20], [15, 1, 13], [15, 1, 11], [22, ...</td>\n",
       "    </tr>\n",
       "    <tr>\n",
       "      <th>1</th>\n",
       "      <td>[[[206, 210, 213], [206, 210, 213], [206, 210,...</td>\n",
       "    </tr>\n",
       "    <tr>\n",
       "      <th>2</th>\n",
       "      <td>[[[209, 197, 179], [228, 216, 199], [228, 216,...</td>\n",
       "    </tr>\n",
       "    <tr>\n",
       "      <th>3</th>\n",
       "      <td>[[[0, 0, 0], [13, 10, 9], [31, 27, 24], [16, 1...</td>\n",
       "    </tr>\n",
       "    <tr>\n",
       "      <th>4</th>\n",
       "      <td>[[[249, 245, 242], [249, 245, 242], [248, 244,...</td>\n",
       "    </tr>\n",
       "    <tr>\n",
       "      <th>...</th>\n",
       "      <td>...</td>\n",
       "    </tr>\n",
       "    <tr>\n",
       "      <th>9295</th>\n",
       "      <td>[[[118, 119, 121], [106, 107, 109], [22, 22, 2...</td>\n",
       "    </tr>\n",
       "    <tr>\n",
       "      <th>9296</th>\n",
       "      <td>[[[222, 251, 249], [207, 236, 234], [75, 104, ...</td>\n",
       "    </tr>\n",
       "    <tr>\n",
       "      <th>9297</th>\n",
       "      <td>[[[94, 73, 52], [93, 72, 51], [162, 141, 122],...</td>\n",
       "    </tr>\n",
       "    <tr>\n",
       "      <th>9298</th>\n",
       "      <td>[[[190, 192, 189], [190, 192, 189], [190, 192,...</td>\n",
       "    </tr>\n",
       "    <tr>\n",
       "      <th>9299</th>\n",
       "      <td>[[[205, 205, 205], [218, 218, 218], [239, 239,...</td>\n",
       "    </tr>\n",
       "  </tbody>\n",
       "</table>\n",
       "<p>9300 rows × 1 columns</p>\n",
       "</div>"
      ],
      "text/plain": [
       "                                                    img\n",
       "0     [[[21, 3, 20], [15, 1, 13], [15, 1, 11], [22, ...\n",
       "1     [[[206, 210, 213], [206, 210, 213], [206, 210,...\n",
       "2     [[[209, 197, 179], [228, 216, 199], [228, 216,...\n",
       "3     [[[0, 0, 0], [13, 10, 9], [31, 27, 24], [16, 1...\n",
       "4     [[[249, 245, 242], [249, 245, 242], [248, 244,...\n",
       "...                                                 ...\n",
       "9295  [[[118, 119, 121], [106, 107, 109], [22, 22, 2...\n",
       "9296  [[[222, 251, 249], [207, 236, 234], [75, 104, ...\n",
       "9297  [[[94, 73, 52], [93, 72, 51], [162, 141, 122],...\n",
       "9298  [[[190, 192, 189], [190, 192, 189], [190, 192,...\n",
       "9299  [[[205, 205, 205], [218, 218, 218], [239, 239,...\n",
       "\n",
       "[9300 rows x 1 columns]"
      ]
     },
     "execution_count": 6,
     "metadata": {},
     "output_type": "execute_result"
    }
   ],
   "source": [
    "import cv2\n",
    "import glob\n",
    "from tqdm import tqdm_notebook\n",
    "ims = glob.glob('GroupCohesion/train/*')\n",
    "df = pd.DataFrame()\n",
    "df['img'] = 0\n",
    "for i in tqdm_notebook(range(len(ims))):\n",
    "    df.loc[i] = [cv2.resize(cv2.cvtColor(cv2.imread(ims[i]), cv2.COLOR_BGR2RGB), (640,360), interpolation=cv2.INTER_CUBIC)]\n",
    "df"
   ]
  },
  {
   "cell_type": "code",
   "execution_count": 7,
   "metadata": {},
   "outputs": [
    {
     "data": {
      "text/plain": [
       "<matplotlib.image.AxesImage at 0x245013085c8>"
      ]
     },
     "execution_count": 7,
     "metadata": {},
     "output_type": "execute_result"
    },
    {
     "data": {
      "image/png": "[encoded data removed]",
      "text/plain": [
       "<Figure size 432x288 with 1 Axes>"
      ]
     },
     "metadata": {
      "needs_background": "light"
     },
     "output_type": "display_data"
    }
   ],
   "source": [
    "plt.imshow(df['img'][0])"
   ]
  },
  {
   "cell_type": "code",
   "execution_count": 8,
   "metadata": {},
   "outputs": [
    {
     "data": {
      "text/plain": [
       "'1.jpg'"
      ]
     },
     "execution_count": 8,
     "metadata": {},
     "output_type": "execute_result"
    }
   ],
   "source": [
    "ims[0].split('_')[1]"
   ]
  },
  {
   "cell_type": "code",
   "execution_count": 9,
   "metadata": {},
   "outputs": [
    {
     "data": {
      "text/html": [
       "<div>\n",
       "<style scoped>\n",
       "    .dataframe tbody tr th:only-of-type {\n",
       "        vertical-align: middle;\n",
       "    }\n",
       "\n",
       "    .dataframe tbody tr th {\n",
       "        vertical-align: top;\n",
       "    }\n",
       "\n",
       "    .dataframe thead th {\n",
       "        text-align: right;\n",
       "    }\n",
       "</style>\n",
       "<table border=\"1\" class=\"dataframe\">\n",
       "  <thead>\n",
       "    <tr style=\"text-align: right;\">\n",
       "      <th></th>\n",
       "      <th>img</th>\n",
       "      <th>filename</th>\n",
       "      <th>1</th>\n",
       "    </tr>\n",
       "  </thead>\n",
       "  <tbody>\n",
       "    <tr>\n",
       "      <th>0</th>\n",
       "      <td>[[[21, 3, 20], [15, 1, 13], [15, 1, 11], [22, ...</td>\n",
       "      <td>0</td>\n",
       "      <td>3</td>\n",
       "    </tr>\n",
       "    <tr>\n",
       "      <th>1</th>\n",
       "      <td>[[[206, 210, 213], [206, 210, 213], [206, 210,...</td>\n",
       "      <td>0</td>\n",
       "      <td>1</td>\n",
       "    </tr>\n",
       "    <tr>\n",
       "      <th>2</th>\n",
       "      <td>[[[209, 197, 179], [228, 216, 199], [228, 216,...</td>\n",
       "      <td>0</td>\n",
       "      <td>3</td>\n",
       "    </tr>\n",
       "    <tr>\n",
       "      <th>3</th>\n",
       "      <td>[[[0, 0, 0], [13, 10, 9], [31, 27, 24], [16, 1...</td>\n",
       "      <td>0</td>\n",
       "      <td>2</td>\n",
       "    </tr>\n",
       "    <tr>\n",
       "      <th>4</th>\n",
       "      <td>[[[249, 245, 242], [249, 245, 242], [248, 244,...</td>\n",
       "      <td>0</td>\n",
       "      <td>2</td>\n",
       "    </tr>\n",
       "    <tr>\n",
       "      <th>...</th>\n",
       "      <td>...</td>\n",
       "      <td>...</td>\n",
       "      <td>...</td>\n",
       "    </tr>\n",
       "    <tr>\n",
       "      <th>9295</th>\n",
       "      <td>[[[118, 119, 121], [106, 107, 109], [22, 22, 2...</td>\n",
       "      <td>2</td>\n",
       "      <td>2</td>\n",
       "    </tr>\n",
       "    <tr>\n",
       "      <th>9296</th>\n",
       "      <td>[[[222, 251, 249], [207, 236, 234], [75, 104, ...</td>\n",
       "      <td>2</td>\n",
       "      <td>2</td>\n",
       "    </tr>\n",
       "    <tr>\n",
       "      <th>9297</th>\n",
       "      <td>[[[94, 73, 52], [93, 72, 51], [162, 141, 122],...</td>\n",
       "      <td>2</td>\n",
       "      <td>2</td>\n",
       "    </tr>\n",
       "    <tr>\n",
       "      <th>9298</th>\n",
       "      <td>[[[190, 192, 189], [190, 192, 189], [190, 192,...</td>\n",
       "      <td>2</td>\n",
       "      <td>2</td>\n",
       "    </tr>\n",
       "    <tr>\n",
       "      <th>9299</th>\n",
       "      <td>[[[205, 205, 205], [218, 218, 218], [239, 239,...</td>\n",
       "      <td>2</td>\n",
       "      <td>2</td>\n",
       "    </tr>\n",
       "  </tbody>\n",
       "</table>\n",
       "<p>9300 rows × 3 columns</p>\n",
       "</div>"
      ],
      "text/plain": [
       "                                                    img  filename  1\n",
       "0     [[[21, 3, 20], [15, 1, 13], [15, 1, 11], [22, ...         0  3\n",
       "1     [[[206, 210, 213], [206, 210, 213], [206, 210,...         0  1\n",
       "2     [[[209, 197, 179], [228, 216, 199], [228, 216,...         0  3\n",
       "3     [[[0, 0, 0], [13, 10, 9], [31, 27, 24], [16, 1...         0  2\n",
       "4     [[[249, 245, 242], [249, 245, 242], [248, 244,...         0  2\n",
       "...                                                 ...       ... ..\n",
       "9295  [[[118, 119, 121], [106, 107, 109], [22, 22, 2...         2  2\n",
       "9296  [[[222, 251, 249], [207, 236, 234], [75, 104, ...         2  2\n",
       "9297  [[[94, 73, 52], [93, 72, 51], [162, 141, 122],...         2  2\n",
       "9298  [[[190, 192, 189], [190, 192, 189], [190, 192,...         2  2\n",
       "9299  [[[205, 205, 205], [218, 218, 218], [239, 239,...         2  2\n",
       "\n",
       "[9300 rows x 3 columns]"
      ]
     },
     "execution_count": 9,
     "metadata": {},
     "output_type": "execute_result"
    }
   ],
   "source": [
    "df['filename'] = [x.split('_')[0][-3:]+'_'+x.split('_')[1] for x in ims]\n",
    "labels = pd.read_csv('train.txt', header=None, sep='  ')\n",
    "train = pd.merge(df, labels, left_on='filename', right_on=0)\n",
    "train.drop(0, axis=1, inplace=True)\n",
    "train['filename'] = train['filename'].apply(lambda x: x.split('_')[0])\n",
    "train['filename'] = train['filename'].apply(lambda x: (0 if x == 'neg' else (1 if x == 'neu' else (2 if x == 'pos' else x))))\n",
    "train"
   ]
  },
  {
   "cell_type": "code",
   "execution_count": 10,
   "metadata": {},
   "outputs": [
    {
     "data": {
      "application/vnd.jupyter.widget-view+json": {
       "model_id": "8ccd7457aef84301abf67d9976c65c61",
       "version_major": 2,
       "version_minor": 0
      },
      "text/plain": [
       "HBox(children=(FloatProgress(value=0.0, max=4244.0), HTML(value='')))"
      ]
     },
     "metadata": {},
     "output_type": "display_data"
    },
    {
     "name": "stdout",
     "output_type": "stream",
     "text": [
      "\n"
     ]
    },
    {
     "data": {
      "text/html": [
       "<div>\n",
       "<style scoped>\n",
       "    .dataframe tbody tr th:only-of-type {\n",
       "        vertical-align: middle;\n",
       "    }\n",
       "\n",
       "    .dataframe tbody tr th {\n",
       "        vertical-align: top;\n",
       "    }\n",
       "\n",
       "    .dataframe thead th {\n",
       "        text-align: right;\n",
       "    }\n",
       "</style>\n",
       "<table border=\"1\" class=\"dataframe\">\n",
       "  <thead>\n",
       "    <tr style=\"text-align: right;\">\n",
       "      <th></th>\n",
       "      <th>img</th>\n",
       "    </tr>\n",
       "  </thead>\n",
       "  <tbody>\n",
       "    <tr>\n",
       "      <th>0</th>\n",
       "      <td>[[[0, 0, 2], [0, 0, 2], [0, 0, 2], [0, 0, 2], ...</td>\n",
       "    </tr>\n",
       "    <tr>\n",
       "      <th>1</th>\n",
       "      <td>[[[88, 67, 50], [88, 67, 50], [85, 64, 47], [8...</td>\n",
       "    </tr>\n",
       "    <tr>\n",
       "      <th>2</th>\n",
       "      <td>[[[65, 74, 47], [82, 90, 65], [123, 131, 108],...</td>\n",
       "    </tr>\n",
       "    <tr>\n",
       "      <th>3</th>\n",
       "      <td>[[[183, 193, 185], [190, 199, 193], [208, 218,...</td>\n",
       "    </tr>\n",
       "    <tr>\n",
       "      <th>4</th>\n",
       "      <td>[[[33, 36, 17], [28, 31, 14], [22, 24, 11], [1...</td>\n",
       "    </tr>\n",
       "    <tr>\n",
       "      <th>...</th>\n",
       "      <td>...</td>\n",
       "    </tr>\n",
       "    <tr>\n",
       "      <th>4239</th>\n",
       "      <td>[[[138, 133, 140], [138, 133, 140], [138, 133,...</td>\n",
       "    </tr>\n",
       "    <tr>\n",
       "      <th>4240</th>\n",
       "      <td>[[[62, 33, 27], [62, 33, 27], [62, 33, 27], [6...</td>\n",
       "    </tr>\n",
       "    <tr>\n",
       "      <th>4241</th>\n",
       "      <td>[[[196, 185, 165], [196, 185, 165], [195, 184,...</td>\n",
       "    </tr>\n",
       "    <tr>\n",
       "      <th>4242</th>\n",
       "      <td>[[[82, 72, 62], [105, 95, 85], [110, 100, 90],...</td>\n",
       "    </tr>\n",
       "    <tr>\n",
       "      <th>4243</th>\n",
       "      <td>[[[177, 196, 190], [177, 196, 190], [177, 196,...</td>\n",
       "    </tr>\n",
       "  </tbody>\n",
       "</table>\n",
       "<p>4244 rows × 1 columns</p>\n",
       "</div>"
      ],
      "text/plain": [
       "                                                    img\n",
       "0     [[[0, 0, 2], [0, 0, 2], [0, 0, 2], [0, 0, 2], ...\n",
       "1     [[[88, 67, 50], [88, 67, 50], [85, 64, 47], [8...\n",
       "2     [[[65, 74, 47], [82, 90, 65], [123, 131, 108],...\n",
       "3     [[[183, 193, 185], [190, 199, 193], [208, 218,...\n",
       "4     [[[33, 36, 17], [28, 31, 14], [22, 24, 11], [1...\n",
       "...                                                 ...\n",
       "4239  [[[138, 133, 140], [138, 133, 140], [138, 133,...\n",
       "4240  [[[62, 33, 27], [62, 33, 27], [62, 33, 27], [6...\n",
       "4241  [[[196, 185, 165], [196, 185, 165], [195, 184,...\n",
       "4242  [[[82, 72, 62], [105, 95, 85], [110, 100, 90],...\n",
       "4243  [[[177, 196, 190], [177, 196, 190], [177, 196,...\n",
       "\n",
       "[4244 rows x 1 columns]"
      ]
     },
     "execution_count": 10,
     "metadata": {},
     "output_type": "execute_result"
    }
   ],
   "source": [
    "ims = glob.glob('GroupCohesion/val/*')\n",
    "d = pd.DataFrame()\n",
    "d['img'] = 0\n",
    "for i in tqdm_notebook(range(len(ims))):\n",
    "    d.loc[i] = [cv2.resize(cv2.cvtColor(cv2.imread(ims[i]), cv2.COLOR_BGR2RGB), (640,360), interpolation=cv2.INTER_CUBIC)]\n",
    "d"
   ]
  },
  {
   "cell_type": "code",
   "execution_count": 11,
   "metadata": {},
   "outputs": [
    {
     "data": {
      "text/html": [
       "<div>\n",
       "<style scoped>\n",
       "    .dataframe tbody tr th:only-of-type {\n",
       "        vertical-align: middle;\n",
       "    }\n",
       "\n",
       "    .dataframe tbody tr th {\n",
       "        vertical-align: top;\n",
       "    }\n",
       "\n",
       "    .dataframe thead th {\n",
       "        text-align: right;\n",
       "    }\n",
       "</style>\n",
       "<table border=\"1\" class=\"dataframe\">\n",
       "  <thead>\n",
       "    <tr style=\"text-align: right;\">\n",
       "      <th></th>\n",
       "      <th>img</th>\n",
       "      <th>filename</th>\n",
       "      <th>1</th>\n",
       "    </tr>\n",
       "  </thead>\n",
       "  <tbody>\n",
       "    <tr>\n",
       "      <th>0</th>\n",
       "      <td>[[[0, 0, 2], [0, 0, 2], [0, 0, 2], [0, 0, 2], ...</td>\n",
       "      <td>0</td>\n",
       "      <td>2</td>\n",
       "    </tr>\n",
       "    <tr>\n",
       "      <th>1</th>\n",
       "      <td>[[[88, 67, 50], [88, 67, 50], [85, 64, 47], [8...</td>\n",
       "      <td>0</td>\n",
       "      <td>0</td>\n",
       "    </tr>\n",
       "    <tr>\n",
       "      <th>2</th>\n",
       "      <td>[[[65, 74, 47], [82, 90, 65], [123, 131, 108],...</td>\n",
       "      <td>0</td>\n",
       "      <td>1</td>\n",
       "    </tr>\n",
       "    <tr>\n",
       "      <th>3</th>\n",
       "      <td>[[[183, 193, 185], [190, 199, 193], [208, 218,...</td>\n",
       "      <td>0</td>\n",
       "      <td>1</td>\n",
       "    </tr>\n",
       "    <tr>\n",
       "      <th>4</th>\n",
       "      <td>[[[33, 36, 17], [28, 31, 14], [22, 24, 11], [1...</td>\n",
       "      <td>0</td>\n",
       "      <td>2</td>\n",
       "    </tr>\n",
       "    <tr>\n",
       "      <th>...</th>\n",
       "      <td>...</td>\n",
       "      <td>...</td>\n",
       "      <td>...</td>\n",
       "    </tr>\n",
       "    <tr>\n",
       "      <th>4239</th>\n",
       "      <td>[[[138, 133, 140], [138, 133, 140], [138, 133,...</td>\n",
       "      <td>2</td>\n",
       "      <td>3</td>\n",
       "    </tr>\n",
       "    <tr>\n",
       "      <th>4240</th>\n",
       "      <td>[[[62, 33, 27], [62, 33, 27], [62, 33, 27], [6...</td>\n",
       "      <td>2</td>\n",
       "      <td>3</td>\n",
       "    </tr>\n",
       "    <tr>\n",
       "      <th>4241</th>\n",
       "      <td>[[[196, 185, 165], [196, 185, 165], [195, 184,...</td>\n",
       "      <td>2</td>\n",
       "      <td>3</td>\n",
       "    </tr>\n",
       "    <tr>\n",
       "      <th>4242</th>\n",
       "      <td>[[[82, 72, 62], [105, 95, 85], [110, 100, 90],...</td>\n",
       "      <td>2</td>\n",
       "      <td>3</td>\n",
       "    </tr>\n",
       "    <tr>\n",
       "      <th>4243</th>\n",
       "      <td>[[[177, 196, 190], [177, 196, 190], [177, 196,...</td>\n",
       "      <td>2</td>\n",
       "      <td>2</td>\n",
       "    </tr>\n",
       "  </tbody>\n",
       "</table>\n",
       "<p>4244 rows × 3 columns</p>\n",
       "</div>"
      ],
      "text/plain": [
       "                                                    img  filename  1\n",
       "0     [[[0, 0, 2], [0, 0, 2], [0, 0, 2], [0, 0, 2], ...         0  2\n",
       "1     [[[88, 67, 50], [88, 67, 50], [85, 64, 47], [8...         0  0\n",
       "2     [[[65, 74, 47], [82, 90, 65], [123, 131, 108],...         0  1\n",
       "3     [[[183, 193, 185], [190, 199, 193], [208, 218,...         0  1\n",
       "4     [[[33, 36, 17], [28, 31, 14], [22, 24, 11], [1...         0  2\n",
       "...                                                 ...       ... ..\n",
       "4239  [[[138, 133, 140], [138, 133, 140], [138, 133,...         2  3\n",
       "4240  [[[62, 33, 27], [62, 33, 27], [62, 33, 27], [6...         2  3\n",
       "4241  [[[196, 185, 165], [196, 185, 165], [195, 184,...         2  3\n",
       "4242  [[[82, 72, 62], [105, 95, 85], [110, 100, 90],...         2  3\n",
       "4243  [[[177, 196, 190], [177, 196, 190], [177, 196,...         2  2\n",
       "\n",
       "[4244 rows x 3 columns]"
      ]
     },
     "execution_count": 11,
     "metadata": {},
     "output_type": "execute_result"
    }
   ],
   "source": [
    "d['filename'] = [x.split('_')[0][-3:]+'_'+x.split('_')[1] for x in ims]\n",
    "labels = pd.read_csv('validation.txt', header=None, sep='  ')\n",
    "val = pd.merge(d, labels, left_on='filename', right_on=0)\n",
    "val.drop(0, axis=1, inplace=True)\n",
    "val['filename'] = val['filename'].apply(lambda x: x.split('_')[0])\n",
    "val['filename'] = val['filename'].apply(lambda x: (0 if x == 'neg' else (1 if x == 'neu' else (2 if x == 'pos' else x))))\n",
    "val"
   ]
  },
  {
   "cell_type": "code",
   "execution_count": 12,
   "metadata": {},
   "outputs": [],
   "source": [
    "train_images = np.zeros((len(train), 640, 360), dtype=float)\n",
    "val_images = np.zeros((len(val), 640, 360), dtype=float)"
   ]
  },
  {
   "cell_type": "code",
   "execution_count": 13,
   "metadata": {},
   "outputs": [
    {
     "data": {
      "text/plain": [
       "(4244, 640, 360)"
      ]
     },
     "execution_count": 13,
     "metadata": {},
     "output_type": "execute_result"
    }
   ],
   "source": [
    "val_images.shape"
   ]
  },
  {
   "cell_type": "code",
   "execution_count": 14,
   "metadata": {},
   "outputs": [
    {
     "name": "stdout",
     "output_type": "stream",
     "text": [
      "Train on 9300 samples, validate on 4244 samples\n",
      "Epoch 1/100\n",
      "9300/9300 [==============================] - 511s 55ms/step - loss: 2.2315 - regression_loss: 1.1398 - classification_loss: 1.0897 - regression_mse: 1.1420 - classification_accuracy: 0.4109 - val_loss: 1.9897 - val_regression_loss: 0.9004 - val_classification_loss: 1.0896 - val_regression_mse: 0.8977 - val_classification_accuracy: 0.4008\n",
      "Epoch 2/100\n",
      "9300/9300 [==============================] - 475s 51ms/step - loss: 1.9226 - regression_loss: 0.8358 - classification_loss: 1.0866 - regression_mse: 0.8358 - classification_accuracy: 0.4049 - val_loss: 1.9891 - val_regression_loss: 0.8977 - val_classification_loss: 1.0902 - val_regression_mse: 0.8958 - val_classification_accuracy: 0.4008\n",
      "Epoch 3/100\n",
      "9300/9300 [==============================] - 504s 54ms/step - loss: 1.9229 - regression_loss: 0.8354 - classification_loss: 1.0867 - regression_mse: 0.8366 - classification_accuracy: 0.4083 - val_loss: 2.0079 - val_regression_loss: 0.9053 - val_classification_loss: 1.1023 - val_regression_mse: 0.9019 - val_classification_accuracy: 0.4008\n",
      "Epoch 4/100\n",
      "9300/9300 [==============================] - 444s 48ms/step - loss: 1.9238 - regression_loss: 0.8385 - classification_loss: 1.0871 - regression_mse: 0.8367 - classification_accuracy: 0.4049 - val_loss: 1.9957 - val_regression_loss: 0.9074 - val_classification_loss: 1.0892 - val_regression_mse: 0.9039 - val_classification_accuracy: 0.4008\n",
      "Epoch 5/100\n",
      "9300/9300 [==============================] - 429s 46ms/step - loss: 1.9235 - regression_loss: 0.8395 - classification_loss: 1.0846 - regression_mse: 0.8390 - classification_accuracy: 0.4114 - val_loss: 1.9837 - val_regression_loss: 0.8977 - val_classification_loss: 1.0861 - val_regression_mse: 0.8959 - val_classification_accuracy: 0.4008\n",
      "Epoch 6/100\n",
      "9300/9300 [==============================] - 421s 45ms/step - loss: 1.9225 - regression_loss: 0.8360 - classification_loss: 1.0857 - regression_mse: 0.8367 - classification_accuracy: 0.4054 - val_loss: 2.0121 - val_regression_loss: 0.8990 - val_classification_loss: 1.1108 - val_regression_mse: 0.8966 - val_classification_accuracy: 0.4008\n",
      "Epoch 7/100\n",
      "9300/9300 [==============================] - 454s 49ms/step - loss: 1.9263 - regression_loss: 0.8389 - classification_loss: 1.0868 - regression_mse: 0.8393 - classification_accuracy: 0.4081 - val_loss: 2.0030 - val_regression_loss: 0.9087 - val_classification_loss: 1.0945 - val_regression_mse: 0.9051 - val_classification_accuracy: 0.4008\n",
      "Epoch 8/100\n",
      "9300/9300 [==============================] - 427s 46ms/step - loss: 1.9238 - regression_loss: 0.8384 - classification_loss: 1.0867 - regression_mse: 0.8373 - classification_accuracy: 0.4015 - val_loss: 1.9859 - val_regression_loss: 0.8994 - val_classification_loss: 1.0876 - val_regression_mse: 0.8970 - val_classification_accuracy: 0.4008\n",
      "Epoch 9/100\n",
      "9300/9300 [==============================] - 443s 48ms/step - loss: 1.9247 - regression_loss: 0.8364 - classification_loss: 1.0872 - regression_mse: 0.8376 - classification_accuracy: 0.4045 - val_loss: 1.9854 - val_regression_loss: 0.8976 - val_classification_loss: 1.0881 - val_regression_mse: 0.8959 - val_classification_accuracy: 0.4008\n",
      "Epoch 10/100\n",
      "9300/9300 [==============================] - 450s 48ms/step - loss: 1.9232 - regression_loss: 0.8370 - classification_loss: 1.0856 - regression_mse: 0.8375 - classification_accuracy: 0.4074 - val_loss: 1.9918 - val_regression_loss: 0.8996 - val_classification_loss: 1.0915 - val_regression_mse: 0.8971 - val_classification_accuracy: 0.4008\n"
     ]
    },
    {
     "data": {
      "text/plain": [
       "<keras.callbacks.callbacks.History at 0x2454d126f08>"
      ]
     },
     "execution_count": 14,
     "metadata": {},
     "output_type": "execute_result"
    }
   ],
   "source": [
    "from keras.models import Model, Sequential\n",
    "from keras.layers import *\n",
    "inp = Input(shape=(640,360))\n",
    "x = Dense(600, activation='tanh')(inp)\n",
    "x = Conv1D(512, 3, padding='same', activation='relu')(x)\n",
    "x = MaxPooling1D(3)(x)\n",
    "x = Flatten()(x)\n",
    "x = Dense(200, activation='sigmoid')(x)\n",
    "\n",
    "out1 = Dense(1, activation='linear', name='regression')(x)\n",
    "out2 = Dense(3, activation='softmax', name='classification')(x)\n",
    "\n",
    "model = Model(inp, [out1, out2])\n",
    "model.compile(optimizer='adam', loss={'classification':'sparse_categorical_crossentropy', 'regression':'mse'}, \n",
    "              metrics={'classification':'accuracy', 'regression':'mse'})\n",
    "model.fit(train_images, {'regression':train[1], 'classification':train['filename']}, epochs=100, batch_size=64,\n",
    "         validation_data=[val_images, {'regression':val[1], 'classification':val['filename']}], callbacks=[early_stop])"
   ]
  },
  {
   "cell_type": "code",
   "execution_count": 15,
   "metadata": {},
   "outputs": [
    {
     "name": "stdout",
     "output_type": "stream",
     "text": [
      "4244/4244 [==============================] - 51s 12ms/step\n"
     ]
    },
    {
     "data": {
      "text/plain": [
       "[1.9837380877988278,\n",
       " 0.896369993686676,\n",
       " 1.0874040126800537,\n",
       " 0.8958523869514465,\n",
       " 0.4008011221885681]"
      ]
     },
     "execution_count": 15,
     "metadata": {},
     "output_type": "execute_result"
    }
   ],
   "source": [
    "model.evaluate(val_images, {'regression':val[1], 'classification':val['filename']})"
   ]
  },
  {
   "cell_type": "code",
   "execution_count": null,
   "metadata": {},
   "outputs": [],
   "source": [
    "train.drop(['emotion', 'age'], axis=1, inplace=True)\n",
    "val.drop(['emotion', 'age'], axis=1, inplace=True)"
   ]
  },
  {
   "cell_type": "code",
   "execution_count": null,
   "metadata": {},
   "outputs": [],
   "source": [
    "import pickle\n",
    "with open('train.pickle', 'wb') as f:\n",
    "    pickle.dump(train, f)\n",
    "with open('val.pickle', 'wb') as v:\n",
    "    pickle.dump(val, v)"
   ]
  },
  {
   "cell_type": "code",
   "execution_count": null,
   "metadata": {},
   "outputs": [],
   "source": [
    "from sklearn.decomposition import PCA\n",
    "from sklearn.pipeline import Pipeline\n",
    "n_components = 32\n",
    "pca = PCA(n_components=n_components, svd_solver='randomized', whiten=True)"
   ]
  },
  {
   "cell_type": "code",
   "execution_count": null,
   "metadata": {},
   "outputs": [],
   "source": [
    "from catboost import CatBoostClassifier\n",
    "cb = Pipeline(steps=[('pca', pca), ('classifier', CatBoostClassifier(depth=3, n_estimators=10000, learning_rate=0.01, loss_function='MultiClass'))])\n",
    "cb.fit(train.drop(['filename', 'target'], axis=1), train['target'])"
   ]
  },
  {
   "cell_type": "code",
   "execution_count": null,
   "metadata": {},
   "outputs": [],
   "source": [
    "from sklearn.metrics import classification_report\n",
    "print('TRAIN:\\n',classification_report(train['target'], cb.predict(train.drop(['filename', 'target'], axis=1))))\n",
    "print('VALIDATION:\\n',classification_report(val['target'], cb.predict(val.drop(['filename', 'target'], axis=1))))\n",
    "print('TRAIN MSE: ', mean_squared_error(train['target'], cb.predict(train.drop(['filename', 'target'], axis=1))))\n",
    "print('VALIDATION MSE: ', mean_squared_error(val['target'], cb.predict(val.drop(['filename', 'target'], axis=1))))"
   ]
  },
  {
   "cell_type": "code",
   "execution_count": null,
   "metadata": {},
   "outputs": [],
   "source": [
    "from sklearn.linear_model import LogisticRegression\n",
    "logreg = Pipeline(steps=[('pca', pca), ('classifier', LogisticRegression(C=7))])\n",
    "logreg.fit(train.drop(['filename', 'target'], axis=1), train['target'])"
   ]
  },
  {
   "cell_type": "code",
   "execution_count": null,
   "metadata": {},
   "outputs": [],
   "source": [
    "print('TRAIN:\\n',classification_report(train['target'], logreg.predict(train.drop(['filename', 'target'], axis=1))))\n",
    "print('VALIDATION:\\n',classification_report(val['target'], logreg.predict(val.drop(['filename', 'target'], axis=1))))\n",
    "print('TRAIN MSE: ', mean_squared_error(train['target'], logreg.predict(train.drop(['filename', 'target'], axis=1))))\n",
    "print('VALIDATION MSE: ', mean_squared_error(val['target'], logreg.predict(val.drop(['filename', 'target'], axis=1))))"
   ]
  },
  {
   "cell_type": "code",
   "execution_count": null,
   "metadata": {},
   "outputs": [],
   "source": [
    "from sklearn.preprocessing import MinMaxScaler\n",
    "scaler = MinMaxScaler()\n",
    "train_scaled = scaler.fit_transform(train.drop(['filename', 'target'], axis=1))\n",
    "val_scaled = scaler.transform(val.drop(['filename', 'target'], axis=1))"
   ]
  },
  {
   "cell_type": "code",
   "execution_count": null,
   "metadata": {},
   "outputs": [],
   "source": [
    "logreg.fit(train_scaled, train['target'])"
   ]
  },
  {
   "cell_type": "code",
   "execution_count": null,
   "metadata": {},
   "outputs": [],
   "source": [
    "print('TRAIN:\\n',classification_report(train['target'], logreg.predict(train_scaled)))\n",
    "print('VALIDATION:\\n',classification_report(val['target'], logreg.predict(val_scaled)))\n",
    "print('TRAIN MSE: ', mean_squared_error(train['target'], logreg.predict(train_scaled)))\n",
    "print('VALIDATION MSE: ', mean_squared_error(val['target'], logreg.predict(val_scaled)))"
   ]
  },
  {
   "cell_type": "code",
   "execution_count": null,
   "metadata": {},
   "outputs": [],
   "source": [
    "import matplotlib\n",
    "matplotlib.__version__"
   ]
  },
  {
   "cell_type": "code",
   "execution_count": null,
   "metadata": {},
   "outputs": [],
   "source": [
    "from sklearn.model_selection import GridSearchCV, StratifiedKFold\n",
    "params = {'classifier__C':range(0,31),\n",
    "         'classifier__max_iter':[100, 200, 500, 1000],\n",
    "          'classifier__penalty':['l2', 'l1'],\n",
    "         'pca__n_components':[16,32,64,128,256],\n",
    "         'pca__whiten':[True, False]}\n",
    "fold = StratifiedKFold(n_splits=5, shuffle=True)\n",
    "grid = GridSearchCV(logreg, param_grid=params, n_jobs=-1, cv=fold, scoring='neg_root_mean_squared_error', verbose=1)\n",
    "grid.fit(train_scaled, train['target'])"
   ]
  },
  {
   "cell_type": "code",
   "execution_count": null,
   "metadata": {},
   "outputs": [],
   "source": [
    "grid.best_params_"
   ]
  },
  {
   "cell_type": "code",
   "execution_count": null,
   "metadata": {},
   "outputs": [],
   "source": [
    "logreg = Pipeline(steps=[('pca', PCA(n_components=16, whiten=True)), ('classifier', LogisticRegression(C=19, max_iter=1000))])\n",
    "logreg.fit(train_scaled, train['target'])\n",
    "print('TRAIN:\\n',classification_report(train['target'], logreg.predict(train_scaled)))\n",
    "print('VALIDATION:\\n',classification_report(val['target'], logreg.predict(val_scaled)))\n",
    "print('TRAIN MSE: ', mean_squared_error(train['target'], logreg.predict(train_scaled)))\n",
    "print('VALIDATION MSE: ', mean_squared_error(val['target'], logreg.predict(val_scaled)))"
   ]
  },
  {
   "cell_type": "code",
   "execution_count": null,
   "metadata": {},
   "outputs": [],
   "source": [
    "from mord import OrdinalRidge, LogisticAT, LogisticIT, LogisticSE\n",
    "ord_reg = Pipeline(steps=[('pca', pca), ('classifier', OrdinalRidge(alpha=25))])\n",
    "ord_reg.fit(train_scaled, train['target'])"
   ]
  },
  {
   "cell_type": "code",
   "execution_count": null,
   "metadata": {},
   "outputs": [],
   "source": [
    "print('TRAIN:\\n',classification_report(train['target'], ord_reg.predict(train_scaled)))\n",
    "print('VALIDATION:\\n',classification_report(val['target'], ord_reg.predict(val_scaled)))\n",
    "print('TRAIN MSE: ', mean_squared_error(train['target'], ord_reg.predict(train_scaled)))\n",
    "print('VALIDATION MSE: ', mean_squared_error(val['target'], ord_reg.predict(val_scaled)))"
   ]
  },
  {
   "cell_type": "code",
   "execution_count": null,
   "metadata": {},
   "outputs": [],
   "source": [
    "ord_reg.fit(train.drop(['filename', 'target'], axis=1), train['target'])\n",
    "print('TRAIN:\\n',classification_report(train['target'], ord_reg.predict(train.drop(['filename', 'target'], axis=1))))\n",
    "print('VALIDATION:\\n',classification_report(val['target'], ord_reg.predict(val.drop(['filename', 'target'], axis=1))))\n",
    "print('TRAIN MSE: ', mean_squared_error(train['target'], ord_reg.predict(train.drop(['filename', 'target'], axis=1))))\n",
    "print('VALIDATION MSE: ', mean_squared_error(val['target'], ord_reg.predict(val.drop(['filename', 'target'], axis=1))))"
   ]
  },
  {
   "cell_type": "code",
   "execution_count": null,
   "metadata": {},
   "outputs": [],
   "source": [
    "ord_reg = OrdinalRidge(alpha=0)\n",
    "ord_reg.fit(train_scaled, train['target'])\n",
    "print('TRAIN:\\n',classification_report(train['target'], ord_reg.predict(train_scaled)))\n",
    "print('VALIDATION:\\n',classification_report(val['target'], ord_reg.predict(val_scaled)))\n",
    "print('TRAIN MSE: ', mean_squared_error(train['target'], ord_reg.predict(train_scaled)))\n",
    "print('VALIDATION MSE: ', mean_squared_error(val['target'], ord_reg.predict(val_scaled)))"
   ]
  },
  {
   "cell_type": "code",
   "execution_count": null,
   "metadata": {},
   "outputs": [],
   "source": [
    "logat = Pipeline(steps=[('pca', pca), ('classifier', LogisticAT(alpha=2))])\n",
    "logat.fit(train_scaled, train['target'])\n",
    "print('TRAIN:\\n',classification_report(train['target'], logat.predict(train_scaled)))\n",
    "print('VALIDATION:\\n',classification_report(val['target'], logat.predict(val_scaled)))\n",
    "print('TRAIN MSE: ', mean_squared_error(train['target'], logat.predict(train_scaled)))\n",
    "print('VALIDATION MSE: ', mean_squared_error(val['target'], logat.predict(val_scaled)))"
   ]
  },
  {
   "cell_type": "code",
   "execution_count": null,
   "metadata": {},
   "outputs": [],
   "source": [
    "from sklearn.model_selection import GridSearchCV, StratifiedKFold\n",
    "params = {'classifier__alpha':range(0,31),\n",
    "         'classifier__max_iter':[1000, 10000, 100000],\n",
    "         'pca__n_components':[16,32,64,128,256],\n",
    "         'pca__whiten':[True, False]}\n",
    "fold = StratifiedKFold(n_splits=5, shuffle=True)\n",
    "grid = GridSearchCV(logat, param_grid=params, n_jobs=-1, cv=fold, scoring='neg_root_mean_squared_error', verbose=1)\n",
    "grid.fit(train_scaled, train['target'])"
   ]
  },
  {
   "cell_type": "code",
   "execution_count": null,
   "metadata": {},
   "outputs": [],
   "source": [
    "grid.best_params_"
   ]
  },
  {
   "cell_type": "code",
   "execution_count": null,
   "metadata": {},
   "outputs": [],
   "source": [
    "grid.best_score_"
   ]
  },
  {
   "cell_type": "code",
   "execution_count": null,
   "metadata": {},
   "outputs": [],
   "source": [
    "logat = Pipeline(steps=[('pca', PCA(n_components=256, whiten=False)), ('classifier', LogisticAT(alpha=20, max_iter=1000))])\n",
    "logat.fit(train_scaled, train['target'])\n",
    "print('TRAIN:\\n',classification_report(train['target'], logat.predict(train_scaled)))\n",
    "print('VALIDATION:\\n',classification_report(val['target'], logat.predict(val_scaled)))\n",
    "print('TRAIN MSE: ', mean_squared_error(train['target'], logat.predict(train_scaled)))\n",
    "print('VALIDATION MSE: ', mean_squared_error(val['target'], logat.predict(val_scaled)))"
   ]
  },
  {
   "cell_type": "code",
   "execution_count": null,
   "metadata": {},
   "outputs": [],
   "source": [
    "logat = LogisticAT(alpha=0)\n",
    "logat.fit(train_scaled, train['target'])\n",
    "print('TRAIN:\\n',classification_report(train['target'], logat.predict(train_scaled)))\n",
    "print('VALIDATION:\\n',classification_report(val['target'], logat.predict(val_scaled)))\n",
    "print('TRAIN MSE: ', mean_squared_error(train['target'], logat.predict(train_scaled)))\n",
    "print('VALIDATION MSE: ', mean_squared_error(val['target'], logat.predict(val_scaled)))"
   ]
  },
  {
   "cell_type": "code",
   "execution_count": null,
   "metadata": {},
   "outputs": [],
   "source": [
    "logit = LogisticIT(alpha=1)\n",
    "logit.fit(train_scaled, train['target'])\n",
    "print('TRAIN:\\n',classification_report(train['target'], logit.predict(train_scaled)))\n",
    "print('VALIDATION:\\n',classification_report(val['target'], logit.predict(val_scaled)))\n",
    "print('TRAIN MSE: ', mean_squared_error(train['target'], logit.predict(train_scaled)))\n",
    "print('VALIDATION MSE: ', mean_squared_error(val['target'], logit.predict(val_scaled)))"
   ]
  },
  {
   "cell_type": "code",
   "execution_count": null,
   "metadata": {},
   "outputs": [],
   "source": [
    "logit = LogisticIT(alpha=0)\n",
    "logit.fit(train_scaled, train['target'])\n",
    "print('TRAIN:\\n',classification_report(train['target'], logit.predict(train_scaled)))\n",
    "print('VALIDATION:\\n',classification_report(val['target'], logit.predict(val_scaled)))\n",
    "print('TRAIN MSE: ', mean_squared_error(train['target'], logit.predict(train_scaled)))\n",
    "print('VALIDATION MSE: ', mean_squared_error(val['target'], logit.predict(val_scaled)))"
   ]
  },
  {
   "cell_type": "code",
   "execution_count": null,
   "metadata": {},
   "outputs": [],
   "source": [
    "logse = LogisticSE(alpha=0)\n",
    "logse.fit(train_scaled, train['target'])\n",
    "print('TRAIN:\\n',classification_report(train['target'], logse.predict(train_scaled)))\n",
    "print('VALIDATION:\\n',classification_report(val['target'], logse.predict(val_scaled)))\n",
    "print('TRAIN MSE: ', mean_squared_error(train['target'], logse.predict(train_scaled)))\n",
    "print('VALIDATION MSE: ', mean_squared_error(val['target'], logse.predict(val_scaled)))"
   ]
  },
  {
   "cell_type": "code",
   "execution_count": null,
   "metadata": {},
   "outputs": [],
   "source": [
    "logse = Pipeline(steps=[('pca', PCA(n_components=16)), ('classifier', LogisticSE(alpha=13))])\n",
    "logse.fit(train_scaled, train['target'])\n",
    "print('TRAIN:\\n',classification_report(train['target'], logse.predict(train_scaled)))\n",
    "print('VALIDATION:\\n',classification_report(val['target'], logse.predict(val_scaled)))\n",
    "print('TRAIN MSE: ', mean_squared_error(train['target'], logse.predict(train_scaled)))\n",
    "print('VALIDATION MSE: ', mean_squared_error(val['target'], logse.predict(val_scaled)))"
   ]
  },
  {
   "cell_type": "code",
   "execution_count": null,
   "metadata": {},
   "outputs": [],
   "source": [
    "from sklearn.model_selection import GridSearchCV, StratifiedKFold\n",
    "params = {'classifier__alpha':range(0,31),\n",
    "         'classifier__max_iter':[50000, 10000, 500000, 100000, 200000, 1000000],\n",
    "         'pca__n_components':[16,32,64,128,256],\n",
    "         'pca__whiten':[True, False]}\n",
    "fold = StratifiedKFold(n_splits=5, shuffle=True)\n",
    "grid = GridSearchCV(logse, param_grid=params, n_jobs=-1, cv=fold, scoring='neg_mean_squared_error', verbose=1)\n",
    "grid.fit(train_scaled, train['target'])"
   ]
  },
  {
   "cell_type": "code",
   "execution_count": null,
   "metadata": {},
   "outputs": [],
   "source": [
    "grid.best_score_"
   ]
  },
  {
   "cell_type": "code",
   "execution_count": null,
   "metadata": {},
   "outputs": [],
   "source": [
    "grid.best_params_"
   ]
  },
  {
   "cell_type": "code",
   "execution_count": null,
   "metadata": {},
   "outputs": [],
   "source": [
    "logse =  Pipeline(steps=[('pca', PCA(n_components=256)), ('classifier', LogisticSE(alpha=28, max_iter=1000000))])\n",
    "logse.fit(train_scaled, train['target'])\n",
    "# print('TRAIN:\\n',classification_report(train['target'], logse.predict(train_scaled)))\n",
    "print('VALIDATION:\\n',classification_report(val['target'], logse.predict(val_scaled)))\n",
    "# print('TRAIN MSE: ', mean_squared_error(train['target'], logse.predict(train_scaled)))\n",
    "print('VALIDATION MSE: ', mean_squared_error(val['target'], logse.predict(val_scaled)))"
   ]
  },
  {
   "cell_type": "code",
   "execution_count": null,
   "metadata": {},
   "outputs": [],
   "source": [
    "mul_lr = LogisticRegression(multi_class='multinomial',fit_intercept=True)\n",
    "mul_lr.fit(train_scaled, train['target'])\n",
    "print('TRAIN:\\n',classification_report(train['target'], mul_lr.predict(train_scaled)))\n",
    "print('VALIDATION:\\n',classification_report(val['target'], mul_lr.predict(val_scaled)))\n",
    "print('TRAIN MSE: ', mean_squared_error(train['target'], mul_lr.predict(train_scaled)))\n",
    "print('VALIDATION MSE: ', mean_squared_error(val['target'], mul_lr.predict(val_scaled)))"
   ]
  },
  {
   "cell_type": "code",
   "execution_count": null,
   "metadata": {},
   "outputs": [],
   "source": [
    "lad = LAD(C=7)\n",
    "lad.fit(train_scaled, train['target'])\n",
    "print('TRAIN:\\n',classification_report(train['target'], lad.predict(train_scaled)))\n",
    "print('VALIDATION:\\n',classification_report(val['target'], lad.predict(val_scaled)))\n",
    "print('TRAIN MSE: ', mean_squared_error(train['target'], lad.predict(train_scaled)))\n",
    "print('VALIDATION MSE: ', mean_squared_error(val['target'], lad.predict(val_scaled)))"
   ]
  },
  {
   "cell_type": "code",
   "execution_count": null,
   "metadata": {},
   "outputs": [],
   "source": [
    "from sklearn.base import clone\n",
    "\n",
    "\n",
    "class OrdinalClassifier():\n",
    "    \n",
    "    def __init__(self, clf):\n",
    "        self.clf = clf\n",
    "        self.clfs = {}\n",
    "    \n",
    "    def fit(self, X, y, sample_w):\n",
    "        self.unique_class = np.sort(np.unique(y))\n",
    "        if self.unique_class.shape[0] > 2:\n",
    "            for i in range(self.unique_class.shape[0]-1):\n",
    "                # for each k - 1 ordinal value we fit a binary classification problem\n",
    "                binary_y = (y > self.unique_class[i]).astype(np.uint8)\n",
    "                clf = clone(self.clf)\n",
    "                clf.fit(X, binary_y,  sample_weight=sample_w)\n",
    "                self.clfs[i] = clf\n",
    "    \n",
    "    def predict_proba(self, X):\n",
    "        clfs_predict = {k:self.clfs[k].predict_proba(X) for k in self.clfs}\n",
    "        predicted = []\n",
    "        for i,y in enumerate(self.unique_class):\n",
    "            if i == 0:\n",
    "                # V1 = 1 - Pr(y > V1)\n",
    "                predicted.append(1 - clfs_predict[y][:,1])\n",
    "            elif y in clfs_predict:\n",
    "                # Vi = Pr(y > Vi-1) - Pr(y > Vi)\n",
    "                 predicted.append(clfs_predict[y-1][:,1] - clfs_predict[y][:,1])\n",
    "            else:\n",
    "                # Vk = Pr(y > Vk-1)\n",
    "                predicted.append(clfs_predict[y-1][:,1])\n",
    "        return np.vstack(predicted).T\n",
    "    \n",
    "    def predict(self, X):\n",
    "        return np.argmax(self.predict_proba(X), axis=1)"
   ]
  },
  {
   "cell_type": "code",
   "execution_count": null,
   "metadata": {},
   "outputs": [],
   "source": [
    "from sklearn.utils import class_weight\n",
    "class_weights = list(class_weight.compute_class_weight('balanced',\n",
    "                                             np.unique(train['target']),\n",
    "                                             train['target']))\n",
    "w_array = np.ones(train['target'].shape[0], dtype = 'float')\n",
    "for i, v in enumerate(train['target']):\n",
    "    w_array[i] = class_weights[v-1]\n",
    "w_array.shape"
   ]
  },
  {
   "cell_type": "code",
   "execution_count": null,
   "metadata": {},
   "outputs": [],
   "source": [
    "%%time\n",
    "ord_clf = OrdinalClassifier(CatBoostClassifier(depth=3, n_estimators=10000,\n",
    "                                               learning_rate=0.01, verbose=False, loss_function='MultiClass'))\n",
    "ord_clf.fit(train.drop(['filename', 'target'], axis=1), train['target'], w_array)\n",
    "print('TRAIN:\\n',classification_report(train['target'], ord_clf.predict(train.drop(['filename', 'target'], axis=1))))\n",
    "print('VALIDATION:\\n',classification_report(val['target'], ord_clf.predict(val.drop(['filename', 'target'], axis=1))))\n",
    "print('TRAIN MSE: ', mean_squared_error(train['target'], ord_clf.predict(train.drop(['filename', 'target'], axis=1))))\n",
    "print('VALIDATION MSE: ', mean_squared_error(val['target'], ord_clf.predict(val.drop(['filename', 'target'], axis=1))))"
   ]
  },
  {
   "cell_type": "code",
   "execution_count": null,
   "metadata": {},
   "outputs": [],
   "source": [
    "%%time\n",
    "ord_clf = OrdinalClassifier(LogisticSE(alpha=2))\n",
    "ord_clf.fit(train_scaled, train['target'], w_array)\n",
    "print('TRAIN:\\n',classification_report(train['target'], ord_clf.predict(train_scaled)))\n",
    "print('VALIDATION:\\n',classification_report(val['target'], ord_clf.predict(val_scaled)))\n",
    "print('TRAIN MSE: ', mean_squared_error(train['target'], ord_clf.predict(train_scaled)))\n",
    "print('VALIDATION MSE: ', mean_squared_error(val['target'], ord_clf.predict(val_scaled)))"
   ]
  },
  {
   "cell_type": "code",
   "execution_count": null,
   "metadata": {},
   "outputs": [],
   "source": [
    "%%time\n",
    "from sklearn.manifold import TSNE\n",
    "tsne = TSNE(random_state=37, n_components=3)\n",
    "X_tsne = tsne.fit_transform(train_scaled)"
   ]
  },
  {
   "cell_type": "code",
   "execution_count": null,
   "metadata": {},
   "outputs": [],
   "source": [
    "from mpl_toolkits.mplot3d import Axes3D\n",
    "fig = plt.figure(figsize=(12,10))\n",
    "ax = Axes3D(fig)\n",
    "s = ax.scatter(X_tsne[:, 0], X_tsne[:, 1], X_tsne[:, 2], c=train['target'])\n",
    "ax.set_xlabel('t-SNE dimension 1')\n",
    "ax.set_ylabel('t-SNE dimension 2')\n",
    "ax.set_zlabel('t-SNE dimension 3')\n",
    "fig.colorbar(s)\n",
    "plt.show()"
   ]
  },
  {
   "cell_type": "code",
   "execution_count": null,
   "metadata": {},
   "outputs": [],
   "source": []
  }
 ],
 "metadata": {
  "kernelspec": {
   "display_name": "Python 3",
   "language": "python",
   "name": "python3"
  },
  "language_info": {
   "codemirror_mode": {
    "name": "ipython",
    "version": 3
   },
   "file_extension": ".py",
   "mimetype": "text/x-python",
   "name": "python",
   "nbconvert_exporter": "python",
   "pygments_lexer": "ipython3",
   "version": "3.7.6"
  }
 },
 "nbformat": 4,
 "nbformat_minor": 4
}
